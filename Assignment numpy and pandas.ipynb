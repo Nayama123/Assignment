{
 "cells": [
  {
   "cell_type": "markdown",
   "id": "fb810edd",
   "metadata": {},
   "source": [
    "**Numpy problems**\n",
    "\n",
    "\n",
    "# 1. Basic Array Operations\n"
   ]
  },
  {
   "cell_type": "code",
   "execution_count": 4,
   "id": "06804b02",
   "metadata": {},
   "outputs": [
    {
     "data": {
      "text/html": [
       "<div>\n",
       "<style scoped>\n",
       "    .dataframe tbody tr th:only-of-type {\n",
       "        vertical-align: middle;\n",
       "    }\n",
       "\n",
       "    .dataframe tbody tr th {\n",
       "        vertical-align: top;\n",
       "    }\n",
       "\n",
       "    .dataframe thead th {\n",
       "        text-align: right;\n",
       "    }\n",
       "</style>\n",
       "<table border=\"1\" class=\"dataframe\">\n",
       "  <thead>\n",
       "    <tr style=\"text-align: right;\">\n",
       "      <th></th>\n",
       "      <th>mpg</th>\n",
       "      <th>cylinders</th>\n",
       "      <th>displacement</th>\n",
       "      <th>horsepower</th>\n",
       "      <th>weight</th>\n",
       "      <th>acceleration</th>\n",
       "      <th>model year</th>\n",
       "      <th>origin</th>\n",
       "      <th>car name</th>\n",
       "    </tr>\n",
       "  </thead>\n",
       "  <tbody>\n",
       "    <tr>\n",
       "      <th>0</th>\n",
       "      <td>18.0</td>\n",
       "      <td>8</td>\n",
       "      <td>307.0</td>\n",
       "      <td>130</td>\n",
       "      <td>3504</td>\n",
       "      <td>12.0</td>\n",
       "      <td>70</td>\n",
       "      <td>1</td>\n",
       "      <td>chevrolet chevelle malibu</td>\n",
       "    </tr>\n",
       "    <tr>\n",
       "      <th>1</th>\n",
       "      <td>15.0</td>\n",
       "      <td>8</td>\n",
       "      <td>350.0</td>\n",
       "      <td>165</td>\n",
       "      <td>3693</td>\n",
       "      <td>11.5</td>\n",
       "      <td>70</td>\n",
       "      <td>1</td>\n",
       "      <td>buick skylark 320</td>\n",
       "    </tr>\n",
       "    <tr>\n",
       "      <th>2</th>\n",
       "      <td>18.0</td>\n",
       "      <td>8</td>\n",
       "      <td>318.0</td>\n",
       "      <td>150</td>\n",
       "      <td>3436</td>\n",
       "      <td>11.0</td>\n",
       "      <td>70</td>\n",
       "      <td>1</td>\n",
       "      <td>plymouth satellite</td>\n",
       "    </tr>\n",
       "    <tr>\n",
       "      <th>3</th>\n",
       "      <td>16.0</td>\n",
       "      <td>8</td>\n",
       "      <td>304.0</td>\n",
       "      <td>150</td>\n",
       "      <td>3433</td>\n",
       "      <td>12.0</td>\n",
       "      <td>70</td>\n",
       "      <td>1</td>\n",
       "      <td>amc rebel sst</td>\n",
       "    </tr>\n",
       "    <tr>\n",
       "      <th>4</th>\n",
       "      <td>17.0</td>\n",
       "      <td>8</td>\n",
       "      <td>302.0</td>\n",
       "      <td>140</td>\n",
       "      <td>3449</td>\n",
       "      <td>10.5</td>\n",
       "      <td>70</td>\n",
       "      <td>1</td>\n",
       "      <td>ford torino</td>\n",
       "    </tr>\n",
       "  </tbody>\n",
       "</table>\n",
       "</div>"
      ],
      "text/plain": [
       "    mpg  cylinders  displacement horsepower  weight  acceleration  model year  \\\n",
       "0  18.0          8         307.0        130    3504          12.0          70   \n",
       "1  15.0          8         350.0        165    3693          11.5          70   \n",
       "2  18.0          8         318.0        150    3436          11.0          70   \n",
       "3  16.0          8         304.0        150    3433          12.0          70   \n",
       "4  17.0          8         302.0        140    3449          10.5          70   \n",
       "\n",
       "   origin                   car name  \n",
       "0       1  chevrolet chevelle malibu  \n",
       "1       1          buick skylark 320  \n",
       "2       1         plymouth satellite  \n",
       "3       1              amc rebel sst  \n",
       "4       1                ford torino  "
      ]
     },
     "execution_count": 4,
     "metadata": {},
     "output_type": "execute_result"
    }
   ],
   "source": [
    "import numpy as np\n",
    "import pandas as pd\n",
    "\n",
    "# Load the dataset\n",
    "url = r'C:\\Users\\grace\\Downloads\\auto-mpg.csv'\n",
    "df = pd.read_csv(url)\n",
    "\n",
    "# Show first few rows\n",
    "df.head()"
   ]
  },
  {
   "cell_type": "code",
   "execution_count": null,
   "id": "e6301696",
   "metadata": {},
   "outputs": [
    {
     "name": "stdout",
     "output_type": "stream",
     "text": [
      "Mean MPG: 23.514572864321607\n",
      "Median MPG: 23.0\n",
      "Standard Deviation of MPG: 7.806159061274433\n",
      "Number of cars with MPG > 25: 158\n"
     ]
    }
   ],
   "source": [
    "mpg_array = df['mpg'].values\n",
    "print(\"Mean MPG:\", np.mean(mpg_array))\n",
    "print(\"Median MPG:\", np.median(mpg_array))\n",
    "print(\"Standard Deviation of MPG:\", np.std(mpg_array))\n",
    "print(\"Number of cars with MPG > 25:\", np.sum(mpg_array > 25))"
   ]
  },
  {
   "cell_type": "code",
   "execution_count": null,
   "id": "42ee1b64",
   "metadata": {},
   "outputs": [
    {
     "name": "stdout",
     "output_type": "stream",
     "text": [
      "Index(['mpg', 'cylinders', 'displacement', 'horsepower', 'weight',\n",
      "       'acceleration', 'model year', 'origin', 'car name'],\n",
      "      dtype='object')\n"
     ]
    }
   ],
   "source": [
    "print(df.columns)"
   ]
  },
  {
   "cell_type": "markdown",
   "id": "8398ee0e",
   "metadata": {},
   "source": [
    "\n",
    "# 2. Filtering Cars with More Than 6 Cylinders"
   ]
  },
  {
   "cell_type": "code",
   "execution_count": null,
   "id": "19d1108e",
   "metadata": {},
   "outputs": [
    {
     "data": {
      "text/plain": [
       "['chevrolet chevelle malibu',\n",
       " 'buick skylark 320',\n",
       " 'plymouth satellite',\n",
       " 'amc rebel sst',\n",
       " 'ford torino']"
      ]
     },
     "execution_count": 21,
     "metadata": {},
     "output_type": "execute_result"
    }
   ],
   "source": [
    "filtered = df[df['cylinders'] > 6]\n",
    "car_names = filtered['car name'].tolist()\n",
    "car_names[:5]  # Show first 5"
   ]
  },
  {
   "cell_type": "markdown",
   "id": "2c001271",
   "metadata": {},
   "source": [
    "\n",
    "# 3. Statistical Analysis"
   ]
  },
  {
   "cell_type": "code",
   "execution_count": 5,
   "id": "7e761443",
   "metadata": {},
   "outputs": [
    {
     "name": "stdout",
     "output_type": "stream",
     "text": [
      "25th percentile: 2223.75\n",
      "50th percentile (median): 2803.5\n",
      "75th percentile: 3608.0\n"
     ]
    }
   ],
   "source": [
    "weight = df['weight'].values\n",
    "print(\"25th percentile:\", np.percentile(weight, 25))\n",
    "print(\"50th percentile (median):\", np.percentile(weight, 50))\n",
    "print(\"75th percentile:\", np.percentile(weight, 75))"
   ]
  },
  {
   "cell_type": "code",
   "execution_count": null,
   "id": "43829783",
   "metadata": {},
   "outputs": [],
   "source": []
  },
  {
   "cell_type": "markdown",
   "id": "9a0e42b0",
   "metadata": {},
   "source": [
    "\n",
    "# 4. Array Manipulation"
   ]
  },
  {
   "cell_type": "code",
   "execution_count": null,
   "id": "303880cc",
   "metadata": {},
   "outputs": [
    {
     "name": "stdout",
     "output_type": "stream",
     "text": [
      "[0.23809524 0.20833333 0.17857143 0.23809524 0.14880952]\n"
     ]
    }
   ],
   "source": [
    "acc = df['acceleration'].to_numpy()\n",
    "acc_norm = (acc - acc.min()) / (acc.max() - acc.min())\n",
    "print(acc_norm[:5])"
   ]
  },
  {
   "cell_type": "markdown",
   "id": "5334e4dc",
   "metadata": {},
   "source": [
    "\n",
    "# 5. Broadcasting"
   ]
  },
  {
   "cell_type": "code",
   "execution_count": null,
   "id": "d06ab67d",
   "metadata": {},
   "outputs": [
    {
     "name": "stdout",
     "output_type": "stream",
     "text": [
      "[143.  181.5 165.  165.  154. ]\n"
     ]
    }
   ],
   "source": [
    "df['horsepower'] = pd.to_numeric(df['horsepower'], errors='coerce')\n",
    "\n",
    "\n",
    "hp = df['horsepower'].to_numpy()\n",
    "hp = np.where(np.isnan(hp), np.nanmean(hp), hp)\n",
    "\n",
    "hp_new = hp * 1.1\n",
    "print(hp_new[:5])"
   ]
  },
  {
   "cell_type": "markdown",
   "id": "c5671b59",
   "metadata": {},
   "source": [
    "\n",
    "# 6. Boolean Indexing"
   ]
  },
  {
   "cell_type": "code",
   "execution_count": null,
   "id": "58f1d4c1",
   "metadata": {},
   "outputs": [
    {
     "name": "stdout",
     "output_type": "stream",
     "text": [
      "Average displacement of European cars: 109.14\n"
     ]
    }
   ],
   "source": [
    "displacement = df['displacement'].values\n",
    "origin = df['origin'].values\n",
    "avg_disp = displacement[origin == 2].mean()\n",
    "print(f\"Average displacement of European cars: {avg_disp:.2f}\")\n"
   ]
  },
  {
   "cell_type": "markdown",
   "id": "68ee9110",
   "metadata": {},
   "source": [
    "\n",
    "# 7. Matrix Operations"
   ]
  },
  {
   "cell_type": "code",
   "execution_count": null,
   "id": "bbb54703",
   "metadata": {},
   "outputs": [
    {
     "data": {
      "text/plain": [
       "array([-617.8, -641.1, -594.2, -595.6, -602.8])"
      ]
     },
     "execution_count": 14,
     "metadata": {},
     "output_type": "execute_result"
    }
   ],
   "source": [
    "matrix = df[['mpg', 'horsepower', 'weight']].replace('?', np.nan).dropna().astype(float).values\n",
    "vector = np.array([1, 0.5, -0.2])\n",
    "dot_product = matrix.dot(vector)\n",
    "dot_product[:5]"
   ]
  },
  {
   "cell_type": "markdown",
   "id": "e764e4a9",
   "metadata": {},
   "source": [
    " \n",
    " # 8. Sorting"
   ]
  },
  {
   "cell_type": "code",
   "execution_count": null,
   "id": "9dea9e00",
   "metadata": {},
   "outputs": [
    {
     "data": {
      "text/plain": [
       "397         chevy s-10\n",
       "396        ford ranger\n",
       "395      dodge rampage\n",
       "394          vw pickup\n",
       "393    ford mustang gl\n",
       "Name: car name, dtype: object"
      ]
     },
     "execution_count": 17,
     "metadata": {},
     "output_type": "execute_result"
    }
   ],
   "source": [
    "sorted_df = df.sort_values(by='model year', ascending=False)\n",
    "sorted_df['car name'].head()"
   ]
  },
  {
   "cell_type": "markdown",
   "id": "43519eaf",
   "metadata": {},
   "source": [
    "\n",
    "# 9. Correlation"
   ]
  },
  {
   "cell_type": "code",
   "execution_count": null,
   "id": "2914b90d",
   "metadata": {},
   "outputs": [
    {
     "data": {
      "text/plain": [
       "np.float64(-0.8317409332443352)"
      ]
     },
     "execution_count": 18,
     "metadata": {},
     "output_type": "execute_result"
    }
   ],
   "source": [
    "mpg = df['mpg'].values\n",
    "weight = df['weight'].values\n",
    "corr = np.corrcoef(mpg, weight)[0, 1]\n",
    "corr"
   ]
  },
  {
   "cell_type": "markdown",
   "id": "9d29f4de",
   "metadata": {},
   "source": [
    " # 10.Conditional Aggregates\n"
   ]
  },
  {
   "cell_type": "code",
   "execution_count": null,
   "id": "03d0150b",
   "metadata": {},
   "outputs": [
    {
     "data": {
      "text/plain": [
       "cylinders\n",
       "3    20.550000\n",
       "4    29.286765\n",
       "5    27.366667\n",
       "6    19.985714\n",
       "8    14.963107\n",
       "Name: mpg, dtype: float64"
      ]
     },
     "execution_count": 19,
     "metadata": {},
     "output_type": "execute_result"
    }
   ],
   "source": [
    "grouped = df.groupby('cylinders')['mpg'].mean()\n",
    "grouped"
   ]
  },
  {
   "cell_type": "markdown",
   "id": "86a827cf",
   "metadata": {},
   "source": [
    "**Pandas problem**"
   ]
  },
  {
   "cell_type": "markdown",
   "id": "17d0dabf",
   "metadata": {},
   "source": [
    "# 1. Basic Exploration"
   ]
  },
  {
   "cell_type": "code",
   "execution_count": null,
   "id": "06b3ed00",
   "metadata": {},
   "outputs": [
    {
     "data": {
      "text/html": [
       "<div>\n",
       "<style scoped>\n",
       "    .dataframe tbody tr th:only-of-type {\n",
       "        vertical-align: middle;\n",
       "    }\n",
       "\n",
       "    .dataframe tbody tr th {\n",
       "        vertical-align: top;\n",
       "    }\n",
       "\n",
       "    .dataframe thead th {\n",
       "        text-align: right;\n",
       "    }\n",
       "</style>\n",
       "<table border=\"1\" class=\"dataframe\">\n",
       "  <thead>\n",
       "    <tr style=\"text-align: right;\">\n",
       "      <th></th>\n",
       "      <th>mpg</th>\n",
       "      <th>cylinders</th>\n",
       "      <th>displacement</th>\n",
       "      <th>horsepower</th>\n",
       "      <th>weight</th>\n",
       "      <th>acceleration</th>\n",
       "      <th>model year</th>\n",
       "      <th>origin</th>\n",
       "      <th>car name</th>\n",
       "    </tr>\n",
       "  </thead>\n",
       "  <tbody>\n",
       "    <tr>\n",
       "      <th>0</th>\n",
       "      <td>18.0</td>\n",
       "      <td>8</td>\n",
       "      <td>307.0</td>\n",
       "      <td>130.0</td>\n",
       "      <td>3504</td>\n",
       "      <td>12.0</td>\n",
       "      <td>70</td>\n",
       "      <td>1</td>\n",
       "      <td>chevrolet chevelle malibu</td>\n",
       "    </tr>\n",
       "    <tr>\n",
       "      <th>1</th>\n",
       "      <td>15.0</td>\n",
       "      <td>8</td>\n",
       "      <td>350.0</td>\n",
       "      <td>165.0</td>\n",
       "      <td>3693</td>\n",
       "      <td>11.5</td>\n",
       "      <td>70</td>\n",
       "      <td>1</td>\n",
       "      <td>buick skylark 320</td>\n",
       "    </tr>\n",
       "    <tr>\n",
       "      <th>2</th>\n",
       "      <td>18.0</td>\n",
       "      <td>8</td>\n",
       "      <td>318.0</td>\n",
       "      <td>150.0</td>\n",
       "      <td>3436</td>\n",
       "      <td>11.0</td>\n",
       "      <td>70</td>\n",
       "      <td>1</td>\n",
       "      <td>plymouth satellite</td>\n",
       "    </tr>\n",
       "    <tr>\n",
       "      <th>3</th>\n",
       "      <td>16.0</td>\n",
       "      <td>8</td>\n",
       "      <td>304.0</td>\n",
       "      <td>150.0</td>\n",
       "      <td>3433</td>\n",
       "      <td>12.0</td>\n",
       "      <td>70</td>\n",
       "      <td>1</td>\n",
       "      <td>amc rebel sst</td>\n",
       "    </tr>\n",
       "    <tr>\n",
       "      <th>4</th>\n",
       "      <td>17.0</td>\n",
       "      <td>8</td>\n",
       "      <td>302.0</td>\n",
       "      <td>140.0</td>\n",
       "      <td>3449</td>\n",
       "      <td>10.5</td>\n",
       "      <td>70</td>\n",
       "      <td>1</td>\n",
       "      <td>ford torino</td>\n",
       "    </tr>\n",
       "    <tr>\n",
       "      <th>5</th>\n",
       "      <td>15.0</td>\n",
       "      <td>8</td>\n",
       "      <td>429.0</td>\n",
       "      <td>198.0</td>\n",
       "      <td>4341</td>\n",
       "      <td>10.0</td>\n",
       "      <td>70</td>\n",
       "      <td>1</td>\n",
       "      <td>ford galaxie 500</td>\n",
       "    </tr>\n",
       "    <tr>\n",
       "      <th>6</th>\n",
       "      <td>14.0</td>\n",
       "      <td>8</td>\n",
       "      <td>454.0</td>\n",
       "      <td>220.0</td>\n",
       "      <td>4354</td>\n",
       "      <td>9.0</td>\n",
       "      <td>70</td>\n",
       "      <td>1</td>\n",
       "      <td>chevrolet impala</td>\n",
       "    </tr>\n",
       "    <tr>\n",
       "      <th>7</th>\n",
       "      <td>14.0</td>\n",
       "      <td>8</td>\n",
       "      <td>440.0</td>\n",
       "      <td>215.0</td>\n",
       "      <td>4312</td>\n",
       "      <td>8.5</td>\n",
       "      <td>70</td>\n",
       "      <td>1</td>\n",
       "      <td>plymouth fury iii</td>\n",
       "    </tr>\n",
       "    <tr>\n",
       "      <th>8</th>\n",
       "      <td>14.0</td>\n",
       "      <td>8</td>\n",
       "      <td>455.0</td>\n",
       "      <td>225.0</td>\n",
       "      <td>4425</td>\n",
       "      <td>10.0</td>\n",
       "      <td>70</td>\n",
       "      <td>1</td>\n",
       "      <td>pontiac catalina</td>\n",
       "    </tr>\n",
       "    <tr>\n",
       "      <th>9</th>\n",
       "      <td>15.0</td>\n",
       "      <td>8</td>\n",
       "      <td>390.0</td>\n",
       "      <td>190.0</td>\n",
       "      <td>3850</td>\n",
       "      <td>8.5</td>\n",
       "      <td>70</td>\n",
       "      <td>1</td>\n",
       "      <td>amc ambassador dpl</td>\n",
       "    </tr>\n",
       "  </tbody>\n",
       "</table>\n",
       "</div>"
      ],
      "text/plain": [
       "    mpg  cylinders  displacement  horsepower  weight  acceleration  \\\n",
       "0  18.0          8         307.0       130.0    3504          12.0   \n",
       "1  15.0          8         350.0       165.0    3693          11.5   \n",
       "2  18.0          8         318.0       150.0    3436          11.0   \n",
       "3  16.0          8         304.0       150.0    3433          12.0   \n",
       "4  17.0          8         302.0       140.0    3449          10.5   \n",
       "5  15.0          8         429.0       198.0    4341          10.0   \n",
       "6  14.0          8         454.0       220.0    4354           9.0   \n",
       "7  14.0          8         440.0       215.0    4312           8.5   \n",
       "8  14.0          8         455.0       225.0    4425          10.0   \n",
       "9  15.0          8         390.0       190.0    3850           8.5   \n",
       "\n",
       "   model year  origin                   car name  \n",
       "0          70       1  chevrolet chevelle malibu  \n",
       "1          70       1          buick skylark 320  \n",
       "2          70       1         plymouth satellite  \n",
       "3          70       1              amc rebel sst  \n",
       "4          70       1                ford torino  \n",
       "5          70       1           ford galaxie 500  \n",
       "6          70       1           chevrolet impala  \n",
       "7          70       1          plymouth fury iii  \n",
       "8          70       1           pontiac catalina  \n",
       "9          70       1         amc ambassador dpl  "
      ]
     },
     "execution_count": 20,
     "metadata": {},
     "output_type": "execute_result"
    }
   ],
   "source": [
    "import pandas as pd\n",
    "\n",
    "# Display the first 10 rows\n",
    "df.head(10)\n"
   ]
  },
  {
   "cell_type": "code",
   "execution_count": null,
   "id": "4f11018b",
   "metadata": {},
   "outputs": [
    {
     "name": "stdout",
     "output_type": "stream",
     "text": [
      "Shape: (398, 9)\n",
      "              mpg   cylinders  displacement  horsepower       weight  \\\n",
      "count  398.000000  398.000000    398.000000  392.000000   398.000000   \n",
      "mean    23.514573    5.454774    193.425879  104.469388  2970.424623   \n",
      "std      7.815984    1.701004    104.269838   38.491160   846.841774   \n",
      "min      9.000000    3.000000     68.000000   46.000000  1613.000000   \n",
      "25%     17.500000    4.000000    104.250000   75.000000  2223.750000   \n",
      "50%     23.000000    4.000000    148.500000   93.500000  2803.500000   \n",
      "75%     29.000000    8.000000    262.000000  126.000000  3608.000000   \n",
      "max     46.600000    8.000000    455.000000  230.000000  5140.000000   \n",
      "\n",
      "       acceleration  model year      origin  \n",
      "count    398.000000  398.000000  398.000000  \n",
      "mean      15.568090   76.010050    1.572864  \n",
      "std        2.757689    3.697627    0.802055  \n",
      "min        8.000000   70.000000    1.000000  \n",
      "25%       13.825000   73.000000    1.000000  \n",
      "50%       15.500000   76.000000    1.000000  \n",
      "75%       17.175000   79.000000    2.000000  \n",
      "max       24.800000   82.000000    3.000000  \n"
     ]
    }
   ],
   "source": [
    "print(\"Shape:\", df.shape)\n",
    "print(df.describe())"
   ]
  },
  {
   "cell_type": "markdown",
   "id": "405dca5c",
   "metadata": {},
   "source": [
    "# 2. Filtering and Indexing"
   ]
  },
  {
   "cell_type": "code",
   "execution_count": null,
   "id": "e9f21d1b",
   "metadata": {},
   "outputs": [
    {
     "name": "stdout",
     "output_type": "stream",
     "text": [
      "              car name  weight   mpg\n",
      "167     toyota corolla    2171  29.0\n",
      "168         ford pinto    2639  23.0\n",
      "169        amc gremlin    2914  20.0\n",
      "170      pontiac astro    2592  23.0\n",
      "171      toyota corona    2702  24.0\n",
      "172  volkswagen dasher    2223  25.0\n",
      "173         datsun 710    2545  24.0\n",
      "174         ford pinto    2984  18.0\n",
      "175  volkswagen rabbit    1937  29.0\n",
      "177         audi 100ls    2694  23.0\n",
      "178        peugeot 504    2957  23.0\n",
      "179        volvo 244dl    2945  22.0\n",
      "180          saab 99le    2671  25.0\n",
      "181   honda civic cvcc    1795  33.0\n"
     ]
    }
   ],
   "source": [
    "filtered = df[(df['model year'] == 75) & (df['weight'] < 3000)]\n",
    "filtered = filtered[['car name', 'weight', 'mpg']]\n",
    "print(filtered)\n"
   ]
  },
  {
   "cell_type": "markdown",
   "id": "db733086",
   "metadata": {},
   "source": [
    "# 3. Handling Missing Data\n"
   ]
  },
  {
   "cell_type": "code",
   "execution_count": null,
   "id": "aeeccfea",
   "metadata": {},
   "outputs": [
    {
     "name": "stdout",
     "output_type": "stream",
     "text": [
      "Missing values before filling:\n",
      "mpg             0\n",
      "cylinders       0\n",
      "displacement    0\n",
      "horsepower      6\n",
      "weight          0\n",
      "acceleration    0\n",
      "model year      0\n",
      "origin          0\n",
      "car name        0\n",
      "dtype: int64\n",
      "\n",
      "Missing values after filling:\n",
      "mpg             0\n",
      "cylinders       0\n",
      "displacement    0\n",
      "horsepower      0\n",
      "weight          0\n",
      "acceleration    0\n",
      "model year      0\n",
      "origin          0\n",
      "car name        0\n",
      "dtype: int64\n"
     ]
    }
   ],
   "source": [
    "import pandas as pd\n",
    "import numpy as np\n",
    "\n",
    "# Load the dataset\n",
    "df = pd.read_csv('C:/Users/grace/Downloads/auto-mpg.csv')\n",
    "\n",
    "# Replace '?' with NaN and convert horsepower to float\n",
    "df['horsepower'] = df['horsepower'].replace('?', np.nan).astype(float)\n",
    "\n",
    "# Show missing values before fill\n",
    "print(\"Missing values before filling:\")\n",
    "print(df.isnull().sum())\n",
    "\n",
    "# Fill missing values with median (safe assignment)\n",
    "df['horsepower'] = df['horsepower'].fillna(df['horsepower'].median())\n",
    "\n",
    "# Show missing values after fill\n",
    "print(\"\\nMissing values after filling:\")\n",
    "print(df.isnull().sum())\n",
    "\n"
   ]
  },
  {
   "cell_type": "markdown",
   "id": "45bb0439",
   "metadata": {},
   "source": [
    " \n",
    " # 4 Data Transformation"
   ]
  },
  {
   "cell_type": "code",
   "execution_count": null,
   "id": "1f81e73c",
   "metadata": {},
   "outputs": [
    {
     "name": "stdout",
     "output_type": "stream",
     "text": [
      "                    car name  power_to_weight_ratio\n",
      "0  chevrolet chevelle malibu               0.037100\n",
      "1          buick skylark 320               0.044679\n",
      "2         plymouth satellite               0.043655\n",
      "3              amc rebel sst               0.043694\n",
      "4                ford torino               0.040591\n"
     ]
    }
   ],
   "source": [
    "df['power_to_weight_ratio'] = df['horsepower'] / df['weight']\n",
    "print(df[['car name', 'power_to_weight_ratio']].head())\n"
   ]
  },
  {
   "cell_type": "markdown",
   "id": "24db49c2",
   "metadata": {},
   "source": [
    "\n",
    " # 5 Group By"
   ]
  },
  {
   "cell_type": "code",
   "execution_count": null,
   "id": "1aa4b737",
   "metadata": {},
   "outputs": [
    {
     "name": "stdout",
     "output_type": "stream",
     "text": [
      "origin\n",
      "1    20.083534\n",
      "2    27.891429\n",
      "3    30.450633\n",
      "Name: mpg, dtype: float64\n"
     ]
    }
   ],
   "source": [
    "mean_mpg_by_origin = df.groupby('origin')['mpg'].mean()\n",
    "print(mean_mpg_by_origin)\n"
   ]
  },
  {
   "cell_type": "markdown",
   "id": "f1a0b82a",
   "metadata": {},
   "source": [
    "\n",
    "# 6 Sorting"
   ]
  },
  {
   "cell_type": "code",
   "execution_count": null,
   "id": "d92d5a57",
   "metadata": {},
   "outputs": [
    {
     "name": "stdout",
     "output_type": "stream",
     "text": [
      "                            car name   mpg\n",
      "322                        mazda glc  46.6\n",
      "329              honda civic 1500 gl  44.6\n",
      "325             vw rabbit c (diesel)  44.3\n",
      "394                        vw pickup  44.0\n",
      "326               vw dasher (diesel)  43.4\n",
      "244  volkswagen rabbit custom diesel  43.1\n",
      "309                        vw rabbit  41.5\n",
      "330             renault lecar deluxe  40.9\n",
      "324                       datsun 210  40.8\n",
      "247                   datsun b210 gx  39.4\n"
     ]
    }
   ],
   "source": [
    "sorted_df = df.sort_values(by='mpg', ascending=False)\n",
    "print(sorted_df[['car name', 'mpg']].head(10))\n"
   ]
  },
  {
   "cell_type": "markdown",
   "id": "a17dc0e6",
   "metadata": {},
   "source": [
    "\n",
    "# 7 Apply Function"
   ]
  },
  {
   "cell_type": "code",
   "execution_count": null,
   "id": "92999d81",
   "metadata": {},
   "outputs": [
    {
     "name": "stdout",
     "output_type": "stream",
     "text": [
      "                    car name  performance_score\n",
      "0  chevrolet chevelle malibu           0.061644\n",
      "1          buick skylark 320           0.046710\n",
      "2         plymouth satellite           0.057625\n",
      "3              amc rebel sst           0.055928\n",
      "4                ford torino           0.051754\n"
     ]
    }
   ],
   "source": [
    "def performance_score(row):\n",
    "    return row['mpg'] * row['acceleration'] / row['weight']\n",
    "\n",
    "df['performance_score'] = df.apply(performance_score, axis=1)\n",
    "print(df[['car name', 'performance_score']].head())\n"
   ]
  },
  {
   "cell_type": "markdown",
   "id": "4dcce2c4",
   "metadata": {},
   "source": [
    "\n",
    "# 8 Visualization Preparation"
   ]
  },
  {
   "cell_type": "code",
   "execution_count": null,
   "id": "adfa4754",
   "metadata": {},
   "outputs": [
    {
     "name": "stdout",
     "output_type": "stream",
     "text": [
      "                  mpg       weight  horsepower\n",
      "model year                                    \n",
      "70          17.689655  3372.793103  147.827586\n",
      "71          21.250000  2995.428571  106.553571\n",
      "72          18.714286  3237.714286  120.178571\n",
      "73          17.100000  3419.025000  130.475000\n",
      "74          22.703704  2877.925926   94.203704\n",
      "75          20.266667  3176.800000  101.066667\n",
      "76          21.573529  3078.735294  101.117647\n",
      "77          23.375000  2997.357143  105.071429\n",
      "78          24.061111  2861.805556   99.694444\n",
      "79          25.093103  3055.344828  101.206897\n",
      "80          33.696552  2436.655172   78.586207\n",
      "81          30.334483  2522.931034   81.465517\n",
      "82          31.709677  2453.548387   81.854839\n"
     ]
    }
   ],
   "source": [
    "summary = df.groupby('model year')[['mpg', 'weight', 'horsepower']].mean()\n",
    "print(summary)\n",
    "\n"
   ]
  },
  {
   "cell_type": "markdown",
   "id": "bba5a7c1",
   "metadata": {},
   "source": [
    "\n",
    "# 9 Exporting Data"
   ]
  },
  {
   "cell_type": "code",
   "execution_count": null,
   "id": "1a654655",
   "metadata": {},
   "outputs": [],
   "source": [
    "high_mpg_cars = df[df['mpg'] > 30][['mpg', 'cylinders', 'horsepower', 'weight']]\n",
    "high_mpg_cars.to_csv(r'C:\\Users\\grace\\Desktop\\high_mpg_cars.csv', index=False)\n"
   ]
  },
  {
   "cell_type": "code",
   "execution_count": null,
   "id": "a010f240",
   "metadata": {},
   "outputs": [
    {
     "data": {
      "text/html": [
       "<div>\n",
       "<style scoped>\n",
       "    .dataframe tbody tr th:only-of-type {\n",
       "        vertical-align: middle;\n",
       "    }\n",
       "\n",
       "    .dataframe tbody tr th {\n",
       "        vertical-align: top;\n",
       "    }\n",
       "\n",
       "    .dataframe thead th {\n",
       "        text-align: right;\n",
       "    }\n",
       "</style>\n",
       "<table border=\"1\" class=\"dataframe\">\n",
       "  <thead>\n",
       "    <tr style=\"text-align: right;\">\n",
       "      <th></th>\n",
       "      <th>mpg</th>\n",
       "      <th>cylinders</th>\n",
       "      <th>horsepower</th>\n",
       "      <th>weight</th>\n",
       "    </tr>\n",
       "  </thead>\n",
       "  <tbody>\n",
       "    <tr>\n",
       "      <th>0</th>\n",
       "      <td>31.0</td>\n",
       "      <td>4</td>\n",
       "      <td>65.0</td>\n",
       "      <td>1773</td>\n",
       "    </tr>\n",
       "    <tr>\n",
       "      <th>1</th>\n",
       "      <td>35.0</td>\n",
       "      <td>4</td>\n",
       "      <td>69.0</td>\n",
       "      <td>1613</td>\n",
       "    </tr>\n",
       "    <tr>\n",
       "      <th>2</th>\n",
       "      <td>31.0</td>\n",
       "      <td>4</td>\n",
       "      <td>67.0</td>\n",
       "      <td>1950</td>\n",
       "    </tr>\n",
       "    <tr>\n",
       "      <th>3</th>\n",
       "      <td>32.0</td>\n",
       "      <td>4</td>\n",
       "      <td>65.0</td>\n",
       "      <td>1836</td>\n",
       "    </tr>\n",
       "    <tr>\n",
       "      <th>4</th>\n",
       "      <td>31.0</td>\n",
       "      <td>4</td>\n",
       "      <td>52.0</td>\n",
       "      <td>1649</td>\n",
       "    </tr>\n",
       "  </tbody>\n",
       "</table>\n",
       "</div>"
      ],
      "text/plain": [
       "    mpg  cylinders  horsepower  weight\n",
       "0  31.0          4        65.0    1773\n",
       "1  35.0          4        69.0    1613\n",
       "2  31.0          4        67.0    1950\n",
       "3  32.0          4        65.0    1836\n",
       "4  31.0          4        52.0    1649"
      ]
     },
     "execution_count": 19,
     "metadata": {},
     "output_type": "execute_result"
    }
   ],
   "source": [
    "# Read and display the saved CSV\n",
    "high_mpg_preview = pd.read_csv(r'C:\\Users\\grace\\Desktop\\high_mpg_cars.csv')\n",
    "high_mpg_preview.head()  # Show the first few rows\n"
   ]
  },
  {
   "cell_type": "markdown",
   "id": "3a935ef2",
   "metadata": {},
   "source": [
    "# 10. Finding Anomalies"
   ]
  },
  {
   "cell_type": "code",
   "execution_count": null,
   "id": "b9fb43a4",
   "metadata": {},
   "outputs": [
    {
     "name": "stdout",
     "output_type": "stream",
     "text": [
      "      car name   mpg  model year\n",
      "322  mazda glc  46.6          80\n"
     ]
    }
   ],
   "source": [
    "Q1 = df['mpg'].quantile(0.25)\n",
    "Q3 = df['mpg'].quantile(0.75)\n",
    "IQR = Q3 - Q1\n",
    "outliers = df[(df['mpg'] < (Q1 - 1.5 * IQR)) | (df['mpg'] > (Q3 + 1.5 * IQR))]\n",
    "print(outliers[['car name', 'mpg', 'model year']])\n"
   ]
  },
  {
   "cell_type": "code",
   "execution_count": null,
   "id": "bd9a6a0b",
   "metadata": {},
   "outputs": [],
   "source": []
  },
  {
   "cell_type": "code",
   "execution_count": null,
   "id": "f01554f8",
   "metadata": {},
   "outputs": [],
   "source": []
  },
  {
   "cell_type": "code",
   "execution_count": null,
   "id": "e8d81f52",
   "metadata": {},
   "outputs": [],
   "source": []
  },
  {
   "cell_type": "code",
   "execution_count": null,
   "id": "8bf6515f",
   "metadata": {},
   "outputs": [],
   "source": []
  },
  {
   "cell_type": "code",
   "execution_count": null,
   "id": "44c06d5d",
   "metadata": {},
   "outputs": [],
   "source": []
  }
 ],
 "metadata": {
  "kernelspec": {
   "display_name": "Python 3",
   "language": "python",
   "name": "python3"
  },
  "language_info": {
   "codemirror_mode": {
    "name": "ipython",
    "version": 3
   },
   "file_extension": ".py",
   "mimetype": "text/x-python",
   "name": "python",
   "nbconvert_exporter": "python",
   "pygments_lexer": "ipython3",
   "version": "3.13.2"
  }
 },
 "nbformat": 4,
 "nbformat_minor": 5
}
