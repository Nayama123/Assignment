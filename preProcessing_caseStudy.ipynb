{
 "cells": [
  {
   "cell_type": "markdown",
   "id": "eff7baf8",
   "metadata": {},
   "source": [
    "## 1.Load Dataset and Display Basic Info"
   ]
  },
  {
   "cell_type": "code",
   "execution_count": null,
   "id": "b2926760",
   "metadata": {},
   "outputs": [
    {
     "name": "stdout",
     "output_type": "stream",
     "text": [
      "           ID Date House was Sold  Sale Price  No of Bedrooms  No of Bathrooms  Flat Area (in Sqft)  Lot Area (in Sqft)  No of Floors Waterfront View No of Times Visited Condition of the House  Overall Grade  Area of the House from Basement (in Sqft)  Basement Area (in Sqft)  Age of House (in Years)  Renovated Year  Zipcode  Latitude  Longitude  Living Area after Renovation (in Sqft)  Lot Area after Renovation (in Sqft)\n",
      "0  7129300520     14 October 2017    221900.0               3             1.00               1180.0              5650.0           1.0              No                 NaN                   Fair              7                                     1180.0                        0                       63               0  98178.0   47.5112   -122.257                                  1340.0                                 5650\n",
      "1  6414100192    14 December 2017    538000.0               3             2.25               2570.0              7242.0           2.0              No                 NaN                   Fair              7                                     2170.0                      400                       67            1991  98125.0   47.7210   -122.319                                  1690.0                                 7639\n",
      "2  5631500400    15 February 2016    180000.0               2             1.00                770.0             10000.0           1.0              No                 NaN                   Fair              6                                      770.0                        0                       85               0  98028.0   47.7379   -122.233                                  2720.0                                 8062\n",
      "3  2487200875    14 December 2017    604000.0               4             3.00               1960.0              5000.0           1.0              No                 NaN              Excellent              7                                     1050.0                      910                       53               0  98136.0   47.5208   -122.393                                  1360.0                                 5000\n",
      "4  1954400510    15 February 2016    510000.0               3             2.00               1680.0              8080.0           1.0              No                 NaN                   Fair              8                                     1680.0                        0                       31               0  98074.0   47.6168   -122.045                                  1800.0                                 7503\n"
     ]
    }
   ],
   "source": [
    "import pandas as pd\n",
    "from sklearn.preprocessing import MinMaxScaler\n",
    "from sklearn.model_selection import train_test_split\n",
    "\n",
    "\n",
    "# Show all columns when printing a DataFrame\n",
    "pd.set_option('display.max_columns', None)\n",
    "pd.set_option('display.expand_frame_repr', False)\n",
    "\n",
    "df = pd.read_csv(r\"C:\\Users\\grace\\Downloads\\House_Pricing.csv\")\n",
    "print(df.head())\n"
   ]
  },
  {
   "cell_type": "code",
   "execution_count": null,
   "id": "1cc6b1ba",
   "metadata": {},
   "outputs": [
    {
     "data": {
      "text/plain": [
       "(21613, 21)"
      ]
     },
     "execution_count": 7,
     "metadata": {},
     "output_type": "execute_result"
    }
   ],
   "source": [
    "df.shape\n"
   ]
  },
  {
   "cell_type": "code",
   "execution_count": null,
   "id": "e25f7230",
   "metadata": {},
   "outputs": [
    {
     "data": {
      "text/plain": [
       "ID                                             int64\n",
       "Date House was Sold                           object\n",
       "Sale Price                                   float64\n",
       "No of Bedrooms                                 int64\n",
       "No of Bathrooms                              float64\n",
       "Flat Area (in Sqft)                          float64\n",
       "Lot Area (in Sqft)                           float64\n",
       "No of Floors                                 float64\n",
       "Waterfront View                               object\n",
       "No of Times Visited                           object\n",
       "Condition of the House                        object\n",
       "Overall Grade                                  int64\n",
       "Area of the House from Basement (in Sqft)    float64\n",
       "Basement Area (in Sqft)                        int64\n",
       "Age of House (in Years)                        int64\n",
       "Renovated Year                                 int64\n",
       "Zipcode                                      float64\n",
       "Latitude                                     float64\n",
       "Longitude                                    float64\n",
       "Living Area after Renovation (in Sqft)       float64\n",
       "Lot Area after Renovation (in Sqft)            int64\n",
       "dtype: object"
      ]
     },
     "execution_count": 8,
     "metadata": {},
     "output_type": "execute_result"
    }
   ],
   "source": [
    "df.dtypes"
   ]
  },
  {
   "cell_type": "code",
   "execution_count": null,
   "id": "7f1e8df2",
   "metadata": {},
   "outputs": [
    {
     "name": "stdout",
     "output_type": "stream",
     "text": [
      "<class 'pandas.core.frame.DataFrame'>\n",
      "RangeIndex: 21613 entries, 0 to 21612\n",
      "Data columns (total 21 columns):\n",
      " #   Column                                     Non-Null Count  Dtype  \n",
      "---  ------                                     --------------  -----  \n",
      " 0   ID                                         21613 non-null  int64  \n",
      " 1   Date House was Sold                        21613 non-null  object \n",
      " 2   Sale Price                                 21609 non-null  float64\n",
      " 3   No of Bedrooms                             21613 non-null  int64  \n",
      " 4   No of Bathrooms                            21609 non-null  float64\n",
      " 5   Flat Area (in Sqft)                        21604 non-null  float64\n",
      " 6   Lot Area (in Sqft)                         21604 non-null  float64\n",
      " 7   No of Floors                               21613 non-null  float64\n",
      " 8   Waterfront View                            21613 non-null  object \n",
      " 9   No of Times Visited                        2124 non-null   object \n",
      " 10  Condition of the House                     21613 non-null  object \n",
      " 11  Overall Grade                              21613 non-null  int64  \n",
      " 12  Area of the House from Basement (in Sqft)  21610 non-null  float64\n",
      " 13  Basement Area (in Sqft)                    21613 non-null  int64  \n",
      " 14  Age of House (in Years)                    21613 non-null  int64  \n",
      " 15  Renovated Year                             21613 non-null  int64  \n",
      " 16  Zipcode                                    21612 non-null  float64\n",
      " 17  Latitude                                   21612 non-null  float64\n",
      " 18  Longitude                                  21612 non-null  float64\n",
      " 19  Living Area after Renovation (in Sqft)     21612 non-null  float64\n",
      " 20  Lot Area after Renovation (in Sqft)        21613 non-null  int64  \n",
      "dtypes: float64(10), int64(7), object(4)\n",
      "memory usage: 3.5+ MB\n"
     ]
    }
   ],
   "source": [
    "df.info()"
   ]
  },
  {
   "cell_type": "code",
   "execution_count": null,
   "id": "3f1a28d1",
   "metadata": {},
   "outputs": [
    {
     "data": {
      "text/html": [
       "<div>\n",
       "<style scoped>\n",
       "    .dataframe tbody tr th:only-of-type {\n",
       "        vertical-align: middle;\n",
       "    }\n",
       "\n",
       "    .dataframe tbody tr th {\n",
       "        vertical-align: top;\n",
       "    }\n",
       "\n",
       "    .dataframe thead th {\n",
       "        text-align: right;\n",
       "    }\n",
       "</style>\n",
       "<table border=\"1\" class=\"dataframe\">\n",
       "  <thead>\n",
       "    <tr style=\"text-align: right;\">\n",
       "      <th></th>\n",
       "      <th>ID</th>\n",
       "      <th>Sale Price</th>\n",
       "      <th>No of Bedrooms</th>\n",
       "      <th>No of Bathrooms</th>\n",
       "      <th>Flat Area (in Sqft)</th>\n",
       "      <th>Lot Area (in Sqft)</th>\n",
       "      <th>No of Floors</th>\n",
       "      <th>Overall Grade</th>\n",
       "      <th>Area of the House from Basement (in Sqft)</th>\n",
       "      <th>Basement Area (in Sqft)</th>\n",
       "      <th>Age of House (in Years)</th>\n",
       "      <th>Renovated Year</th>\n",
       "      <th>Zipcode</th>\n",
       "      <th>Latitude</th>\n",
       "      <th>Longitude</th>\n",
       "      <th>Living Area after Renovation (in Sqft)</th>\n",
       "      <th>Lot Area after Renovation (in Sqft)</th>\n",
       "    </tr>\n",
       "  </thead>\n",
       "  <tbody>\n",
       "    <tr>\n",
       "      <th>count</th>\n",
       "      <td>2.161300e+04</td>\n",
       "      <td>2.160900e+04</td>\n",
       "      <td>21613.000000</td>\n",
       "      <td>21609.000000</td>\n",
       "      <td>21604.000000</td>\n",
       "      <td>2.160400e+04</td>\n",
       "      <td>21613.000000</td>\n",
       "      <td>21613.000000</td>\n",
       "      <td>21610.000000</td>\n",
       "      <td>21613.000000</td>\n",
       "      <td>21613.000000</td>\n",
       "      <td>21613.000000</td>\n",
       "      <td>21612.000000</td>\n",
       "      <td>21612.000000</td>\n",
       "      <td>21612.000000</td>\n",
       "      <td>21612.000000</td>\n",
       "      <td>21613.000000</td>\n",
       "    </tr>\n",
       "    <tr>\n",
       "      <th>mean</th>\n",
       "      <td>4.580302e+09</td>\n",
       "      <td>5.401984e+05</td>\n",
       "      <td>3.370842</td>\n",
       "      <td>2.114732</td>\n",
       "      <td>2079.931772</td>\n",
       "      <td>1.510776e+04</td>\n",
       "      <td>1.494309</td>\n",
       "      <td>7.623467</td>\n",
       "      <td>1788.344193</td>\n",
       "      <td>291.509045</td>\n",
       "      <td>46.994864</td>\n",
       "      <td>84.402258</td>\n",
       "      <td>98077.937766</td>\n",
       "      <td>47.560048</td>\n",
       "      <td>-122.213892</td>\n",
       "      <td>1986.538914</td>\n",
       "      <td>12768.455652</td>\n",
       "    </tr>\n",
       "    <tr>\n",
       "      <th>std</th>\n",
       "      <td>2.876566e+09</td>\n",
       "      <td>3.673890e+05</td>\n",
       "      <td>0.930062</td>\n",
       "      <td>0.770138</td>\n",
       "      <td>918.487597</td>\n",
       "      <td>4.142827e+04</td>\n",
       "      <td>0.539989</td>\n",
       "      <td>1.105439</td>\n",
       "      <td>827.982604</td>\n",
       "      <td>442.575043</td>\n",
       "      <td>29.373411</td>\n",
       "      <td>401.679240</td>\n",
       "      <td>53.505425</td>\n",
       "      <td>0.138565</td>\n",
       "      <td>0.140830</td>\n",
       "      <td>685.404255</td>\n",
       "      <td>27304.179631</td>\n",
       "    </tr>\n",
       "    <tr>\n",
       "      <th>min</th>\n",
       "      <td>1.000102e+06</td>\n",
       "      <td>7.500000e+04</td>\n",
       "      <td>0.000000</td>\n",
       "      <td>0.000000</td>\n",
       "      <td>290.000000</td>\n",
       "      <td>5.200000e+02</td>\n",
       "      <td>1.000000</td>\n",
       "      <td>1.000000</td>\n",
       "      <td>290.000000</td>\n",
       "      <td>0.000000</td>\n",
       "      <td>3.000000</td>\n",
       "      <td>0.000000</td>\n",
       "      <td>98001.000000</td>\n",
       "      <td>47.155900</td>\n",
       "      <td>-122.519000</td>\n",
       "      <td>399.000000</td>\n",
       "      <td>651.000000</td>\n",
       "    </tr>\n",
       "    <tr>\n",
       "      <th>25%</th>\n",
       "      <td>2.123049e+09</td>\n",
       "      <td>3.219500e+05</td>\n",
       "      <td>3.000000</td>\n",
       "      <td>1.750000</td>\n",
       "      <td>1429.250000</td>\n",
       "      <td>5.040000e+03</td>\n",
       "      <td>1.000000</td>\n",
       "      <td>7.000000</td>\n",
       "      <td>1190.000000</td>\n",
       "      <td>0.000000</td>\n",
       "      <td>21.000000</td>\n",
       "      <td>0.000000</td>\n",
       "      <td>98033.000000</td>\n",
       "      <td>47.470975</td>\n",
       "      <td>-122.328000</td>\n",
       "      <td>1490.000000</td>\n",
       "      <td>5100.000000</td>\n",
       "    </tr>\n",
       "    <tr>\n",
       "      <th>50%</th>\n",
       "      <td>3.904930e+09</td>\n",
       "      <td>4.500000e+05</td>\n",
       "      <td>3.000000</td>\n",
       "      <td>2.250000</td>\n",
       "      <td>1910.000000</td>\n",
       "      <td>7.617500e+03</td>\n",
       "      <td>1.500000</td>\n",
       "      <td>7.000000</td>\n",
       "      <td>1560.000000</td>\n",
       "      <td>0.000000</td>\n",
       "      <td>43.000000</td>\n",
       "      <td>0.000000</td>\n",
       "      <td>98065.000000</td>\n",
       "      <td>47.571800</td>\n",
       "      <td>-122.230000</td>\n",
       "      <td>1840.000000</td>\n",
       "      <td>7620.000000</td>\n",
       "    </tr>\n",
       "    <tr>\n",
       "      <th>75%</th>\n",
       "      <td>7.308900e+09</td>\n",
       "      <td>6.450000e+05</td>\n",
       "      <td>4.000000</td>\n",
       "      <td>2.500000</td>\n",
       "      <td>2550.000000</td>\n",
       "      <td>1.068825e+04</td>\n",
       "      <td>2.000000</td>\n",
       "      <td>8.000000</td>\n",
       "      <td>2210.000000</td>\n",
       "      <td>560.000000</td>\n",
       "      <td>67.000000</td>\n",
       "      <td>0.000000</td>\n",
       "      <td>98118.000000</td>\n",
       "      <td>47.678000</td>\n",
       "      <td>-122.125000</td>\n",
       "      <td>2360.000000</td>\n",
       "      <td>10083.000000</td>\n",
       "    </tr>\n",
       "    <tr>\n",
       "      <th>max</th>\n",
       "      <td>9.900000e+09</td>\n",
       "      <td>7.700000e+06</td>\n",
       "      <td>33.000000</td>\n",
       "      <td>8.000000</td>\n",
       "      <td>13540.000000</td>\n",
       "      <td>1.651359e+06</td>\n",
       "      <td>3.500000</td>\n",
       "      <td>10.000000</td>\n",
       "      <td>9410.000000</td>\n",
       "      <td>4820.000000</td>\n",
       "      <td>118.000000</td>\n",
       "      <td>2015.000000</td>\n",
       "      <td>98199.000000</td>\n",
       "      <td>47.777600</td>\n",
       "      <td>-121.315000</td>\n",
       "      <td>6210.000000</td>\n",
       "      <td>871200.000000</td>\n",
       "    </tr>\n",
       "  </tbody>\n",
       "</table>\n",
       "</div>"
      ],
      "text/plain": [
       "                 ID    Sale Price  No of Bedrooms  No of Bathrooms  Flat Area (in Sqft)  Lot Area (in Sqft)  No of Floors  Overall Grade  Area of the House from Basement (in Sqft)  Basement Area (in Sqft)  Age of House (in Years)  Renovated Year       Zipcode      Latitude     Longitude  Living Area after Renovation (in Sqft)  Lot Area after Renovation (in Sqft)\n",
       "count  2.161300e+04  2.160900e+04    21613.000000     21609.000000         21604.000000        2.160400e+04  21613.000000   21613.000000                               21610.000000             21613.000000             21613.000000    21613.000000  21612.000000  21612.000000  21612.000000                            21612.000000                         21613.000000\n",
       "mean   4.580302e+09  5.401984e+05        3.370842         2.114732          2079.931772        1.510776e+04      1.494309       7.623467                                1788.344193               291.509045                46.994864       84.402258  98077.937766     47.560048   -122.213892                             1986.538914                         12768.455652\n",
       "std    2.876566e+09  3.673890e+05        0.930062         0.770138           918.487597        4.142827e+04      0.539989       1.105439                                 827.982604               442.575043                29.373411      401.679240     53.505425      0.138565      0.140830                              685.404255                         27304.179631\n",
       "min    1.000102e+06  7.500000e+04        0.000000         0.000000           290.000000        5.200000e+02      1.000000       1.000000                                 290.000000                 0.000000                 3.000000        0.000000  98001.000000     47.155900   -122.519000                              399.000000                           651.000000\n",
       "25%    2.123049e+09  3.219500e+05        3.000000         1.750000          1429.250000        5.040000e+03      1.000000       7.000000                                1190.000000                 0.000000                21.000000        0.000000  98033.000000     47.470975   -122.328000                             1490.000000                          5100.000000\n",
       "50%    3.904930e+09  4.500000e+05        3.000000         2.250000          1910.000000        7.617500e+03      1.500000       7.000000                                1560.000000                 0.000000                43.000000        0.000000  98065.000000     47.571800   -122.230000                             1840.000000                          7620.000000\n",
       "75%    7.308900e+09  6.450000e+05        4.000000         2.500000          2550.000000        1.068825e+04      2.000000       8.000000                                2210.000000               560.000000                67.000000        0.000000  98118.000000     47.678000   -122.125000                             2360.000000                         10083.000000\n",
       "max    9.900000e+09  7.700000e+06       33.000000         8.000000         13540.000000        1.651359e+06      3.500000      10.000000                                9410.000000              4820.000000               118.000000     2015.000000  98199.000000     47.777600   -121.315000                             6210.000000                        871200.000000"
      ]
     },
     "execution_count": 10,
     "metadata": {},
     "output_type": "execute_result"
    }
   ],
   "source": [
    "df.describe()"
   ]
  },
  {
   "cell_type": "markdown",
   "id": "ebc7d4a2",
   "metadata": {},
   "source": [
    "## 2. Remove Duplicates"
   ]
  },
  {
   "cell_type": "code",
   "execution_count": null,
   "id": "b516659e",
   "metadata": {},
   "outputs": [
    {
     "data": {
      "text/plain": [
       "np.int64(0)"
      ]
     },
     "execution_count": 11,
     "metadata": {},
     "output_type": "execute_result"
    }
   ],
   "source": [
    "duplicated_rows = df.duplicated()\n",
    "duplicated_rows.sum()\n"
   ]
  },
  {
   "cell_type": "code",
   "execution_count": null,
   "id": "ef2de91a",
   "metadata": {},
   "outputs": [
    {
     "data": {
      "text/plain": [
       "array([False, False, False, False, False, False, False, False, False,\n",
       "       False, False, False, False, False, False, False, False, False,\n",
       "       False, False, False])"
      ]
     },
     "execution_count": 12,
     "metadata": {},
     "output_type": "execute_result"
    }
   ],
   "source": [
    "df.columns.duplicated()"
   ]
  },
  {
   "cell_type": "code",
   "execution_count": null,
   "id": "2b049422",
   "metadata": {},
   "outputs": [
    {
     "name": "stdout",
     "output_type": "stream",
     "text": [
      "Index([], dtype='object')\n"
     ]
    }
   ],
   "source": [
    "# Step 1: Transpose and find duplicate columns by value\n",
    "duplicate_columns = df.T.duplicated()\n",
    "\n",
    "# Step 2: Drop duplicate columns\n",
    "df = df.loc[:, ~duplicate_columns]\n",
    "print(df.columns[duplicate_columns])\n"
   ]
  },
  {
   "cell_type": "markdown",
   "id": "08a845d5",
   "metadata": {},
   "source": [
    "## 3.Handling Missing Values"
   ]
  },
  {
   "cell_type": "code",
   "execution_count": null,
   "id": "d9cb4a00",
   "metadata": {},
   "outputs": [
    {
     "name": "stdout",
     "output_type": "stream",
     "text": [
      "Missing values in each column:\n",
      " Sale Price                                       4\n",
      "No of Bathrooms                                  4\n",
      "Flat Area (in Sqft)                              9\n",
      "Lot Area (in Sqft)                               9\n",
      "No of Times Visited                          19489\n",
      "Area of the House from Basement (in Sqft)        3\n",
      "Zipcode                                          1\n",
      "Latitude                                         1\n",
      "Longitude                                        1\n",
      "Living Area after Renovation (in Sqft)           1\n",
      "dtype: int64\n"
     ]
    }
   ],
   "source": [
    "# Count missing values in each column\n",
    "missing_counts = df.isnull().sum()\n",
    "missing_counts = missing_counts[missing_counts > 0]  # Only show columns with missing data\n",
    "print(\"Missing values in each column:\\n\", missing_counts)\n"
   ]
  },
  {
   "cell_type": "code",
   "execution_count": null,
   "id": "ce13d2a9",
   "metadata": {},
   "outputs": [
    {
     "name": "stdout",
     "output_type": "stream",
     "text": [
      "Sale Price: Filled missing values with MEDIAN\n",
      "No of Bathrooms: Filled missing values with MEAN\n",
      "Flat Area (in Sqft): Filled missing values with MEDIAN\n",
      "Lot Area (in Sqft): Filled missing values with MEDIAN\n",
      "No of Times Visited: Filled missing values with MODE\n",
      "Area of the House from Basement (in Sqft): Filled missing values with MEDIAN\n",
      "Zipcode: Filled missing values with MEAN\n",
      "Latitude: Filled missing values with MEAN\n",
      "Longitude: Filled missing values with MEAN\n",
      "Living Area after Renovation (in Sqft): Filled missing values with MEDIAN\n"
     ]
    }
   ],
   "source": [
    "for column in missing_counts.index:\n",
    "    if df[column].dtype in ['int64', 'float64']:\n",
    "        if df[column].skew() < 1:\n",
    "            df[column] = df[column].fillna(df[column].mean())\n",
    "            print(f\"{column}: Filled missing values with MEAN\")\n",
    "        else:\n",
    "            df[column] = df[column].fillna(df[column].median())\n",
    "            print(f\"{column}: Filled missing values with MEDIAN\")\n",
    "    else:\n",
    "        df[column] = df[column].fillna(df[column].mode()[0])\n",
    "        print(f\"{column}: Filled missing values with MODE\")\n",
    "\n"
   ]
  },
  {
   "cell_type": "code",
   "execution_count": null,
   "id": "fe73f7c1",
   "metadata": {},
   "outputs": [
    {
     "name": "stdout",
     "output_type": "stream",
     "text": [
      "\n",
      "Approach Summary:\n",
      "- Sale Price: Missing values filled using median imputation.\n",
      "- No of Bathrooms: Missing values filled using mean imputation.\n",
      "- Flat Area (in Sqft): Missing values filled using median imputation.\n",
      "- Lot Area (in Sqft): Missing values filled using median imputation.\n",
      "- No of Times Visited: Missing values filled using mode imputation.\n",
      "- Area of the House from Basement (in Sqft): Missing values filled using median imputation.\n",
      "- Zipcode: Missing values filled using mean imputation.\n",
      "- Latitude: Missing values filled using mean imputation.\n",
      "- Longitude: Missing values filled using mean imputation.\n",
      "- Living Area after Renovation (in Sqft): Missing values filled using median imputation.\n"
     ]
    }
   ],
   "source": [
    "approach_summary = []\n",
    "\n",
    "for column in missing_counts.index:\n",
    "    if df[column].dtype in ['int64', 'float64']:\n",
    "        method = 'mean' if df[column].skew() < 1 else 'median'\n",
    "    else:\n",
    "        method = 'mode'\n",
    "    approach_summary.append(f\"{column}: Missing values filled using {method} imputation.\")\n",
    "\n",
    "# Print the summary\n",
    "print(\"\\nApproach Summary:\")\n",
    "for line in approach_summary:\n",
    "    print(\"-\", line)\n"
   ]
  },
  {
   "cell_type": "markdown",
   "id": "eb859cb8",
   "metadata": {},
   "source": [
    "## 4 Scaling Numerical Variables"
   ]
  },
  {
   "cell_type": "code",
   "execution_count": null,
   "id": "82645eaa",
   "metadata": {},
   "outputs": [
    {
     "name": "stdout",
     "output_type": "stream",
     "text": [
      "Numerical columns to scale: ['ID', 'No of Bedrooms', 'No of Bathrooms', 'Flat Area (in Sqft)', 'Lot Area (in Sqft)', 'No of Floors', 'Overall Grade', 'Area of the House from Basement (in Sqft)', 'Basement Area (in Sqft)', 'Age of House (in Years)', 'Renovated Year', 'Zipcode', 'Latitude', 'Longitude', 'Living Area after Renovation (in Sqft)', 'Lot Area after Renovation (in Sqft)']\n"
     ]
    }
   ],
   "source": [
    "# Exclude the target variable 'Sale Price' from scaling\n",
    "numerical_columns = df.select_dtypes(include=['int64', 'float64']).columns.tolist()\n",
    "numerical_columns.remove('Sale Price')\n",
    "print(\"Numerical columns to scale:\", numerical_columns)\n"
   ]
  },
  {
   "cell_type": "code",
   "execution_count": null,
   "id": "ca0b6190",
   "metadata": {},
   "outputs": [
    {
     "name": "stdout",
     "output_type": "stream",
     "text": [
      "Standard scaling applied to numerical columns.\n",
      "Sample of scaled features:\n",
      "         ID  No of Bedrooms  No of Bathrooms  Flat Area (in Sqft)  Lot Area (in Sqft)  No of Floors  Overall Grade  Area of the House from Basement (in Sqft)  Basement Area (in Sqft)  Age of House (in Years)  Renovated Year   Zipcode  Latitude  Longitude  Living Area after Renovation (in Sqft)  Lot Area after Renovation (in Sqft)\n",
      "0  0.886146       -0.398737        -1.447612            -0.979940           -0.228268     -0.915427      -0.564013                                  -0.734756                -0.658681                 0.544898       -0.210128  1.870219 -0.352541  -0.306117                               -0.943328                            -0.260715\n",
      "1  0.637511       -0.398737         0.175661             0.533757           -0.189832      0.936506      -0.564013                                   0.461025                 0.245141                 0.681079        4.746678  0.879619  1.161620  -0.746386                               -0.432658                            -0.187868\n",
      "2  0.365444       -1.473959        -1.447612            -1.426426           -0.123244     -0.915427      -1.468651                                  -1.229979                -0.658681                 1.293892       -0.210128 -0.933365  1.283590  -0.135691                                1.070173                            -0.172375\n",
      "3 -0.727656        0.676485         1.149625            -0.130528           -0.243962     -0.915427      -0.564013                                  -0.891778                 1.397515                 0.204446       -0.210128  1.085216 -0.283256  -1.271867                               -0.914147                            -0.284522\n",
      "4 -0.912881       -0.398737        -0.148993            -0.435445           -0.169600     -0.915427       0.340626                                  -0.130826                -0.658681                -0.544548       -0.210128 -0.073599  0.409591   1.199316                               -0.272161                            -0.192849\n"
     ]
    }
   ],
   "source": [
    "from sklearn.preprocessing import StandardScaler\n",
    "\n",
    "scaler = StandardScaler()\n",
    "df[numerical_columns] = scaler.fit_transform(df[numerical_columns])\n",
    "\n",
    "print(\"Standard scaling applied to numerical columns.\")\n",
    "print(\"Sample of scaled features:\")\n",
    "print(df[numerical_columns].head())\n"
   ]
  },
  {
   "cell_type": "markdown",
   "id": "f6f633c2",
   "metadata": {},
   "source": [
    "## 5 Encoding Categorical Variables"
   ]
  },
  {
   "cell_type": "code",
   "execution_count": null,
   "id": "1177b661",
   "metadata": {},
   "outputs": [
    {
     "name": "stdout",
     "output_type": "stream",
     "text": [
      "           ID Date House was Sold  Sale Price  No of Bedrooms  No of Bathrooms  Flat Area (in Sqft)  Lot Area (in Sqft)  No of Floors Waterfront View No of Times Visited Condition of the House  Overall Grade  Area of the House from Basement (in Sqft)  Basement Area (in Sqft)  Age of House (in Years)  Renovated Year  Zipcode  Latitude  Longitude  Living Area after Renovation (in Sqft)  Lot Area after Renovation (in Sqft)\n",
      "0  7129300520     14 October 2017    221900.0               3             1.00               1180.0              5650.0           1.0              No                 NaN                   Fair              7                                     1180.0                        0                       63               0  98178.0   47.5112   -122.257                                  1340.0                                 5650\n",
      "1  6414100192    14 December 2017    538000.0               3             2.25               2570.0              7242.0           2.0              No                 NaN                   Fair              7                                     2170.0                      400                       67            1991  98125.0   47.7210   -122.319                                  1690.0                                 7639\n",
      "2  5631500400    15 February 2016    180000.0               2             1.00                770.0             10000.0           1.0              No                 NaN                   Fair              6                                      770.0                        0                       85               0  98028.0   47.7379   -122.233                                  2720.0                                 8062\n",
      "3  2487200875    14 December 2017    604000.0               4             3.00               1960.0              5000.0           1.0              No                 NaN              Excellent              7                                     1050.0                      910                       53               0  98136.0   47.5208   -122.393                                  1360.0                                 5000\n",
      "4  1954400510    15 February 2016    510000.0               3             2.00               1680.0              8080.0           1.0              No                 NaN                   Fair              8                                     1680.0                        0                       31               0  98074.0   47.6168   -122.045                                  1800.0                                 7503\n"
     ]
    }
   ],
   "source": [
    "\n",
    "df = pd.read_csv(r\"C:\\Users\\grace\\Downloads\\House_Pricing.csv\")\n",
    "print(df.head())"
   ]
  },
  {
   "cell_type": "code",
   "execution_count": null,
   "id": "ff6d4efb",
   "metadata": {},
   "outputs": [
    {
     "data": {
      "text/plain": [
       "array(['14 October 2017', '14 December 2017', '15 February 2016',\n",
       "       '14 May 2017', '14 June 2017', '15 January 2016', '15 April 2016',\n",
       "       '15 March 2016', '14 July 2017', '14 August 2017',\n",
       "       '14 November 2017', '14 September 2017', '15 May 2016'],\n",
       "      dtype=object)"
      ]
     },
     "execution_count": 20,
     "metadata": {},
     "output_type": "execute_result"
    }
   ],
   "source": [
    "\n",
    "df['Date House was Sold'].unique()\n",
    "\n"
   ]
  },
  {
   "cell_type": "code",
   "execution_count": null,
   "id": "612ba0f9",
   "metadata": {},
   "outputs": [
    {
     "name": "stdout",
     "output_type": "stream",
     "text": [
      "Index(['ID', 'Date House was Sold', 'Sale Price', 'No of Bedrooms',\n",
      "       'No of Bathrooms', 'Flat Area (in Sqft)', 'Lot Area (in Sqft)',\n",
      "       'No of Floors', 'Waterfront View', 'No of Times Visited',\n",
      "       'Condition of the House', 'Overall Grade',\n",
      "       'Area of the House from Basement (in Sqft)', 'Basement Area (in Sqft)',\n",
      "       'Age of House (in Years)', 'Renovated Year', 'Zipcode', 'Latitude',\n",
      "       'Longitude', 'Living Area after Renovation (in Sqft)',\n",
      "       'Lot Area after Renovation (in Sqft)'],\n",
      "      dtype='object')\n"
     ]
    }
   ],
   "source": [
    "print(df.columns)\n"
   ]
  },
  {
   "cell_type": "code",
   "execution_count": null,
   "id": "0e03be62",
   "metadata": {},
   "outputs": [
    {
     "name": "stdout",
     "output_type": "stream",
     "text": [
      "           ID  Sale Price  No of Bedrooms  No of Bathrooms  Flat Area (in Sqft)  Lot Area (in Sqft)  No of Floors  Overall Grade  Area of the House from Basement (in Sqft)  Basement Area (in Sqft)  Age of House (in Years)  Renovated Year  Zipcode  Latitude  Longitude  Living Area after Renovation (in Sqft)  Lot Area after Renovation (in Sqft)  Date House was Sold_14 December 2017  Date House was Sold_14 July 2017  Date House was Sold_14 June 2017  Date House was Sold_14 May 2017  Date House was Sold_14 November 2017  Date House was Sold_14 October 2017  Date House was Sold_14 September 2017  Date House was Sold_15 April 2016  Date House was Sold_15 February 2016  Date House was Sold_15 January 2016  Date House was Sold_15 March 2016  Date House was Sold_15 May 2016  Waterfront View_Yes  No of Times Visited_Once  No of Times Visited_Thrice  No of Times Visited_Twice  Condition of the House_Excellent  Condition of the House_Fair  Condition of the House_Good  Condition of the House_Okay\n",
      "0  7129300520    221900.0               3             1.00               1180.0              5650.0           1.0              7                                     1180.0                        0                       63               0  98178.0   47.5112   -122.257                                  1340.0                                 5650                                 False                             False                             False                            False                                 False                                 True                                  False                              False                                 False                                False                              False                            False                False                     False                       False                      False                             False                         True                        False                        False\n",
      "1  6414100192    538000.0               3             2.25               2570.0              7242.0           2.0              7                                     2170.0                      400                       67            1991  98125.0   47.7210   -122.319                                  1690.0                                 7639                                  True                             False                             False                            False                                 False                                False                                  False                              False                                 False                                False                              False                            False                False                     False                       False                      False                             False                         True                        False                        False\n",
      "2  5631500400    180000.0               2             1.00                770.0             10000.0           1.0              6                                      770.0                        0                       85               0  98028.0   47.7379   -122.233                                  2720.0                                 8062                                 False                             False                             False                            False                                 False                                False                                  False                              False                                  True                                False                              False                            False                False                     False                       False                      False                             False                         True                        False                        False\n",
      "3  2487200875    604000.0               4             3.00               1960.0              5000.0           1.0              7                                     1050.0                      910                       53               0  98136.0   47.5208   -122.393                                  1360.0                                 5000                                  True                             False                             False                            False                                 False                                False                                  False                              False                                 False                                False                              False                            False                False                     False                       False                      False                              True                        False                        False                        False\n",
      "4  1954400510    510000.0               3             2.00               1680.0              8080.0           1.0              8                                     1680.0                        0                       31               0  98074.0   47.6168   -122.045                                  1800.0                                 7503                                 False                             False                             False                            False                                 False                                False                                  False                              False                                  True                                False                              False                            False                False                     False                       False                      False                             False                         True                        False                        False\n"
     ]
    }
   ],
   "source": [
    "# Only include categorical columns that still exist in df\n",
    "categorical_columns = ['Date House was Sold', 'Waterfront View', 'No of Times Visited', 'Condition of the House']\n",
    "existing_categorical_columns = [col for col in categorical_columns if col in df.columns]\n",
    "\n",
    "# Only apply get_dummies if any of those original columns exist\n",
    "if existing_categorical_columns:\n",
    "    df = pd.get_dummies(df, columns=existing_categorical_columns, drop_first=True)\n",
    "\n",
    "# Show updated DataFrame\n",
    "print(df.head())\n"
   ]
  },
  {
   "cell_type": "code",
   "execution_count": null,
   "id": "ebd7be9d",
   "metadata": {},
   "outputs": [
    {
     "name": "stdout",
     "output_type": "stream",
     "text": [
      "           ID Date House was Sold  Sale Price  No of Bedrooms  No of Bathrooms  Flat Area (in Sqft)  Lot Area (in Sqft)  No of Floors Waterfront View No of Times Visited Condition of the House  Overall Grade  Area of the House from Basement (in Sqft)  Basement Area (in Sqft)  Age of House (in Years)  Renovated Year  Zipcode  Latitude  Longitude  Living Area after Renovation (in Sqft)  Lot Area after Renovation (in Sqft)\n",
      "0  7129300520     14 October 2017    221900.0               3             1.00               1180.0              5650.0           1.0              No                 NaN                   Fair              7                                     1180.0                        0                       63               0  98178.0   47.5112   -122.257                                  1340.0                                 5650\n",
      "1  6414100192    14 December 2017    538000.0               3             2.25               2570.0              7242.0           2.0              No                 NaN                   Fair              7                                     2170.0                      400                       67            1991  98125.0   47.7210   -122.319                                  1690.0                                 7639\n",
      "2  5631500400    15 February 2016    180000.0               2             1.00                770.0             10000.0           1.0              No                 NaN                   Fair              6                                      770.0                        0                       85               0  98028.0   47.7379   -122.233                                  2720.0                                 8062\n",
      "3  2487200875    14 December 2017    604000.0               4             3.00               1960.0              5000.0           1.0              No                 NaN              Excellent              7                                     1050.0                      910                       53               0  98136.0   47.5208   -122.393                                  1360.0                                 5000\n",
      "4  1954400510    15 February 2016    510000.0               3             2.00               1680.0              8080.0           1.0              No                 NaN                   Fair              8                                     1680.0                        0                       31               0  98074.0   47.6168   -122.045                                  1800.0                                 7503\n",
      "Applied Label Encoding to: Condition of the House\n",
      "\n",
      "Applied One-Hot Encoding to nominal categories.\n",
      "\n",
      "Encoded Data (first few rows):\n",
      "           ID  Sale Price  No of Bedrooms  No of Bathrooms  Flat Area (in Sqft)  Lot Area (in Sqft)  No of Floors  Condition of the House  Overall Grade  Area of the House from Basement (in Sqft)  Basement Area (in Sqft)  Age of House (in Years)  Renovated Year  Zipcode  Latitude  Longitude  Living Area after Renovation (in Sqft)  Lot Area after Renovation (in Sqft)  Date House was Sold_14 December 2017  Date House was Sold_14 July 2017  Date House was Sold_14 June 2017  Date House was Sold_14 May 2017  Date House was Sold_14 November 2017  Date House was Sold_14 October 2017  Date House was Sold_14 September 2017  Date House was Sold_15 April 2016  Date House was Sold_15 February 2016  Date House was Sold_15 January 2016  Date House was Sold_15 March 2016  Date House was Sold_15 May 2016  Waterfront View_Yes  No of Times Visited_Once  No of Times Visited_Thrice  No of Times Visited_Twice\n",
      "0  7129300520    221900.0               3             1.00               1180.0              5650.0           1.0                       2              7                                     1180.0                        0                       63               0  98178.0   47.5112   -122.257                                  1340.0                                 5650                                 False                             False                             False                            False                                 False                                 True                                  False                              False                                 False                                False                              False                            False                False                     False                       False                      False\n",
      "1  6414100192    538000.0               3             2.25               2570.0              7242.0           2.0                       2              7                                     2170.0                      400                       67            1991  98125.0   47.7210   -122.319                                  1690.0                                 7639                                  True                             False                             False                            False                                 False                                False                                  False                              False                                 False                                False                              False                            False                False                     False                       False                      False\n",
      "2  5631500400    180000.0               2             1.00                770.0             10000.0           1.0                       2              6                                      770.0                        0                       85               0  98028.0   47.7379   -122.233                                  2720.0                                 8062                                 False                             False                             False                            False                                 False                                False                                  False                              False                                  True                                False                              False                            False                False                     False                       False                      False\n",
      "3  2487200875    604000.0               4             3.00               1960.0              5000.0           1.0                       1              7                                     1050.0                      910                       53               0  98136.0   47.5208   -122.393                                  1360.0                                 5000                                  True                             False                             False                            False                                 False                                False                                  False                              False                                 False                                False                              False                            False                False                     False                       False                      False\n",
      "4  1954400510    510000.0               3             2.00               1680.0              8080.0           1.0                       2              8                                     1680.0                        0                       31               0  98074.0   47.6168   -122.045                                  1800.0                                 7503                                 False                             False                             False                            False                                 False                                False                                  False                              False                                  True                                False                              False                            False                False                     False                       False                      False\n"
     ]
    }
   ],
   "source": [
    "\n",
    "from sklearn.preprocessing import LabelEncoder\n",
    "label_encoder = LabelEncoder()\n",
    "\n",
    "df = pd.read_csv(r\"C:\\Users\\grace\\Downloads\\House_Pricing.csv\")\n",
    "print(df.head())\n",
    "encoded_data = df.copy()\n",
    "\n",
    "categorical_columns = df.select_dtypes(include=['object']).columns\n",
    "\n",
    "ordinal_columns = ['Condition of the House']\n",
    "nominal_columns = [col for col in categorical_columns if col not in ordinal_columns]\n",
    "\n",
    "for col in ordinal_columns:\n",
    "    encoded_data[col] = label_encoder.fit_transform(encoded_data[col])\n",
    "    print(f\"Applied Label Encoding to: {col}\")\n",
    "\n",
    "encoded_data = pd.get_dummies(encoded_data, columns=nominal_columns, drop_first=True)\n",
    "print(\"\\nApplied One-Hot Encoding to nominal categories.\")\n",
    "\n",
    "print(\"\\nEncoded Data (first few rows):\")\n",
    "print(encoded_data.head())"
   ]
  },
  {
   "cell_type": "markdown",
   "id": "43b2a68b",
   "metadata": {},
   "source": [
    "## 6 Outlier Removal"
   ]
  },
  {
   "cell_type": "code",
   "execution_count": null,
   "id": "5f86724c",
   "metadata": {},
   "outputs": [
    {
     "name": "stdout",
     "output_type": "stream",
     "text": [
      "               ID Date House was Sold  Sale Price  No of Bedrooms  No of Bathrooms  Flat Area (in Sqft)  Lot Area (in Sqft)  No of Floors Waterfront View No of Times Visited Condition of the House  Overall Grade  Area of the House from Basement (in Sqft)  Basement Area (in Sqft)  Age of House (in Years)  Renovated Year  Zipcode  Latitude  Longitude  Living Area after Renovation (in Sqft)  Lot Area after Renovation (in Sqft)\n",
      "0      7129300520     14 October 2017    221900.0               3             1.00               1180.0              5650.0           1.0              No                 NaN                   Fair              7                                     1180.0                        0                       63               0  98178.0   47.5112   -122.257                                  1340.0                                 5650\n",
      "1      5631500400    15 February 2016    180000.0               2             1.00                770.0             10000.0           1.0              No                 NaN                   Fair              6                                      770.0                        0                       85               0  98028.0   47.7379   -122.233                                  2720.0                                 8062\n",
      "2      2487200875    14 December 2017    604000.0               4             3.00               1960.0              5000.0           1.0              No                 NaN              Excellent              7                                     1050.0                      910                       53               0  98136.0   47.5208   -122.393                                  1360.0                                 5000\n",
      "3      1954400510    15 February 2016    510000.0               3             2.00               1680.0              8080.0           1.0              No                 NaN                   Fair              8                                     1680.0                        0                       31               0  98074.0   47.6168   -122.045                                  1800.0                                 7503\n",
      "4      1321400060        14 June 2017    257500.0               3             2.25               1715.0              6819.0           2.0              No                 NaN                   Fair              7                                     1715.0                        0                       23               0  98003.0   47.3097   -122.327                                  2238.0                                 6819\n",
      "...           ...                 ...         ...             ...              ...                  ...                 ...           ...             ...                 ...                    ...            ...                                        ...                      ...                      ...             ...      ...       ...        ...                                     ...                                  ...\n",
      "15895   263000018         14 May 2017    360000.0               3             2.50               1530.0              1131.0           3.0              No                 NaN                   Fair              8                                     1530.0                        0                        9               0  98103.0   47.6993   -122.346                                  1530.0                                 1509\n",
      "15896  6600060120    15 February 2016    400000.0               4             2.50               2310.0              5813.0           2.0              No                 NaN                   Fair              8                                     2310.0                        0                        4               0  98146.0   47.5107   -122.362                                  1830.0                                 7200\n",
      "15897  1523300141        14 June 2017    402101.0               2             0.75               1020.0              1350.0           2.0              No                 NaN                   Fair              7                                     1020.0                        0                        9               0  98144.0   47.5944   -122.299                                  1020.0                                 2007\n",
      "15898   291310100     15 January 2016    400000.0               3             2.50               1600.0              2388.0           2.0              No                 NaN                   Fair              8                                     1600.0                        0                       14               0  98027.0   47.5345   -122.069                                  1410.0                                 1287\n",
      "15899  1523300157     14 October 2017    325000.0               2             0.75               1020.0              1076.0           2.0              No                 NaN                   Fair              7                                     1020.0                        0                       10               0  98144.0   47.5941   -122.299                                  1020.0                                 1357\n",
      "\n",
      "[15667 rows x 21 columns]\n"
     ]
    },
    {
     "name": "stderr",
     "output_type": "stream",
     "text": [
      "C:\\Users\\grace\\AppData\\Local\\Temp\\ipykernel_16016\\2094779625.py:19: UserWarning: Boolean Series key will be reindexed to match DataFrame index.\n",
      "  df_clean = df[mask].copy()\n"
     ]
    }
   ],
   "source": [
    "# Step 1: Identify numerical columns\n",
    "numerical_cols = df.select_dtypes(include=['int64', 'float64']).columns\n",
    "\n",
    "# Step 2: Compute Q1, Q3, IQR from the SAME df\n",
    "Q1 = df[numerical_cols].quantile(0.25)\n",
    "Q3 = df[numerical_cols].quantile(0.75)\n",
    "IQR = Q3 - Q1\n",
    "\n",
    "# Step 3: Build mask from the same df\n",
    "mask = ~((df[numerical_cols] < (Q1 - 1.5 * IQR)) | \n",
    "         (df[numerical_cols] > (Q3 + 1.5 * IQR))).any(axis=1)\n",
    "\n",
    "# Step 4: Align indexes (optional but safe)\n",
    "df = df.reset_index(drop=True)\n",
    "mask = mask.reset_index(drop=True)\n",
    "\n",
    "# Step 5: Filter the DataFrame\n",
    "df = df[mask]\n",
    "df_clean = df[mask].copy()\n",
    "print (df_clean)"
   ]
  },
  {
   "cell_type": "code",
   "execution_count": null,
   "id": "71501440",
   "metadata": {},
   "outputs": [
    {
     "data": {
      "image/png": "[encoded data removed]",
      "text/plain": [
       "<Figure size 640x480 with 1 Axes>"
      ]
     },
     "metadata": {},
     "output_type": "display_data"
    }
   ],
   "source": [
    "\n",
    "import matplotlib.pyplot as plt\n",
    "plt.boxplot(df[numerical_columns])\n",
    "plt.show()"
   ]
  },
  {
   "cell_type": "code",
   "execution_count": null,
   "id": "289cc415",
   "metadata": {},
   "outputs": [],
   "source": [
    "def remove_outliers(df,column_name):\n",
    "    q1 = df[column_name].quantile(0.25)\n",
    "    q3 = df[column_name].quantile(0.75)\n",
    "    iqr = q3-q1\n",
    "    upper_bound = q3 + 1.5 * iqr\n",
    "    lower_bound = q1 - 1.5 * iqr\n",
    "    df[column_name] = df[column_name].clip(upper = upper_bound)\n",
    "    df[column_name] = df[column_name].clip(lower = lower_bound)\n",
    "    return df[column_name]"
   ]
  },
  {
   "cell_type": "code",
   "execution_count": null,
   "id": "805f9100",
   "metadata": {},
   "outputs": [],
   "source": [
    "num_cols = df[numerical_columns].columns.tolist()\n",
    "for col in num_cols:\n",
    "    df.loc[:, col] = remove_outliers(df, col)\n"
   ]
  },
  {
   "cell_type": "code",
   "execution_count": null,
   "id": "04dfc3d6",
   "metadata": {},
   "outputs": [
    {
     "data": {
      "image/png": "[encoded data removed]",
      "text/plain": [
       "<Figure size 640x480 with 1 Axes>"
      ]
     },
     "metadata": {},
     "output_type": "display_data"
    }
   ],
   "source": [
    "plt.boxplot(df[numerical_columns])\n",
    "plt.show()"
   ]
  },
  {
   "cell_type": "markdown",
   "id": "0ec3d9e1",
   "metadata": {},
   "source": [
    "## 7 Train-Test split"
   ]
  },
  {
   "cell_type": "code",
   "execution_count": null,
   "id": "b8d0bcaa",
   "metadata": {},
   "outputs": [],
   "source": [
    "# Encoding (e.g., one-hot encode categorical columns)\n",
    "df_encoded = pd.get_dummies(df_clean, drop_first=True)\n",
    "\n",
    "# Scaling\n",
    "from sklearn.preprocessing import StandardScaler\n",
    "scaler = StandardScaler()\n",
    "\n",
    "# Exclude target column before scaling\n",
    "X = df_encoded.drop(columns=['Sale Price'])\n",
    "X_scaled = pd.DataFrame(scaler.fit_transform(X), columns=X.columns)\n",
    "\n",
    "# Final encoded and scaled DataFrame\n",
    "df_enc_sc = pd.concat([X_scaled, df_encoded['Sale Price'].reset_index(drop=True)], axis=1)\n"
   ]
  },
  {
   "cell_type": "code",
   "execution_count": null,
   "id": "f07f9020",
   "metadata": {},
   "outputs": [],
   "source": [
    "from sklearn.preprocessing import StandardScaler\n",
    "\n",
    "scaler = StandardScaler()\n",
    "df_encoded_scaled = df_encoded.copy()\n",
    "\n",
    "# Get numerical columns excluding target\n",
    "num_cols = df_encoded_scaled.select_dtypes(include=['int64', 'float64']).columns.tolist()\n",
    "num_cols.remove('Sale Price')\n",
    "\n",
    "# Scale\n",
    "df_encoded_scaled[num_cols] = scaler.fit_transform(df_encoded_scaled[num_cols])\n"
   ]
  },
  {
   "cell_type": "code",
   "execution_count": null,
   "id": "e590b2f6",
   "metadata": {},
   "outputs": [],
   "source": [
    "from sklearn.model_selection import train_test_split\n",
    "\n",
    "X = df_encoded_scaled.drop(columns=['Sale Price'])\n",
    "y = df_encoded_scaled['Sale Price']\n",
    "\n",
    "X_train,X_test,y_train,y_test = train_test_split(X,y,test_size = 0.2)\n"
   ]
  },
  {
   "cell_type": "code",
   "execution_count": null,
   "id": "85386e34",
   "metadata": {},
   "outputs": [
    {
     "data": {
      "text/html": [
       "<div>\n",
       "<style scoped>\n",
       "    .dataframe tbody tr th:only-of-type {\n",
       "        vertical-align: middle;\n",
       "    }\n",
       "\n",
       "    .dataframe tbody tr th {\n",
       "        vertical-align: top;\n",
       "    }\n",
       "\n",
       "    .dataframe thead th {\n",
       "        text-align: right;\n",
       "    }\n",
       "</style>\n",
       "<table border=\"1\" class=\"dataframe\">\n",
       "  <thead>\n",
       "    <tr style=\"text-align: right;\">\n",
       "      <th></th>\n",
       "      <th>ID</th>\n",
       "      <th>No of Bedrooms</th>\n",
       "      <th>No of Bathrooms</th>\n",
       "      <th>Flat Area (in Sqft)</th>\n",
       "      <th>Lot Area (in Sqft)</th>\n",
       "      <th>No of Floors</th>\n",
       "      <th>Overall Grade</th>\n",
       "      <th>Area of the House from Basement (in Sqft)</th>\n",
       "      <th>Basement Area (in Sqft)</th>\n",
       "      <th>Age of House (in Years)</th>\n",
       "      <th>Renovated Year</th>\n",
       "      <th>Zipcode</th>\n",
       "      <th>Latitude</th>\n",
       "      <th>Longitude</th>\n",
       "      <th>Living Area after Renovation (in Sqft)</th>\n",
       "      <th>Lot Area after Renovation (in Sqft)</th>\n",
       "      <th>Date House was Sold_14 December 2017</th>\n",
       "      <th>Date House was Sold_14 July 2017</th>\n",
       "      <th>Date House was Sold_14 June 2017</th>\n",
       "      <th>Date House was Sold_14 May 2017</th>\n",
       "      <th>Date House was Sold_14 November 2017</th>\n",
       "      <th>Date House was Sold_14 October 2017</th>\n",
       "      <th>Date House was Sold_14 September 2017</th>\n",
       "      <th>Date House was Sold_15 April 2016</th>\n",
       "      <th>Date House was Sold_15 February 2016</th>\n",
       "      <th>Date House was Sold_15 January 2016</th>\n",
       "      <th>Date House was Sold_15 March 2016</th>\n",
       "      <th>Date House was Sold_15 May 2016</th>\n",
       "      <th>Waterfront View_Yes</th>\n",
       "      <th>No of Times Visited_Once</th>\n",
       "      <th>No of Times Visited_Thrice</th>\n",
       "      <th>No of Times Visited_Twice</th>\n",
       "      <th>Condition of the House_Excellent</th>\n",
       "      <th>Condition of the House_Fair</th>\n",
       "      <th>Condition of the House_Good</th>\n",
       "      <th>Condition of the House_Okay</th>\n",
       "    </tr>\n",
       "  </thead>\n",
       "  <tbody>\n",
       "    <tr>\n",
       "      <th>17316</th>\n",
       "      <td>-0.296193</td>\n",
       "      <td>-0.345117</td>\n",
       "      <td>0.800675</td>\n",
       "      <td>0.458393</td>\n",
       "      <td>-0.126935</td>\n",
       "      <td>0.977030</td>\n",
       "      <td>0.736256</td>\n",
       "      <td>0.884942</td>\n",
       "      <td>-0.673822</td>\n",
       "      <td>-0.612769</td>\n",
       "      <td>0.0</td>\n",
       "      <td>-0.970003</td>\n",
       "      <td>0.052644</td>\n",
       "      <td>1.786619</td>\n",
       "      <td>0.990254</td>\n",
       "      <td>0.295271</td>\n",
       "      <td>False</td>\n",
       "      <td>False</td>\n",
       "      <td>False</td>\n",
       "      <td>False</td>\n",
       "      <td>False</td>\n",
       "      <td>False</td>\n",
       "      <td>False</td>\n",
       "      <td>False</td>\n",
       "      <td>False</td>\n",
       "      <td>False</td>\n",
       "      <td>True</td>\n",
       "      <td>False</td>\n",
       "      <td>False</td>\n",
       "      <td>False</td>\n",
       "      <td>False</td>\n",
       "      <td>False</td>\n",
       "      <td>False</td>\n",
       "      <td>False</td>\n",
       "      <td>True</td>\n",
       "      <td>False</td>\n",
       "    </tr>\n",
       "    <tr>\n",
       "      <th>2017</th>\n",
       "      <td>-0.478586</td>\n",
       "      <td>-0.345117</td>\n",
       "      <td>1.958007</td>\n",
       "      <td>-0.554393</td>\n",
       "      <td>-1.828802</td>\n",
       "      <td>2.806911</td>\n",
       "      <td>0.736256</td>\n",
       "      <td>-0.614940</td>\n",
       "      <td>0.065987</td>\n",
       "      <td>-1.022484</td>\n",
       "      <td>0.0</td>\n",
       "      <td>0.378618</td>\n",
       "      <td>0.541289</td>\n",
       "      <td>-0.730315</td>\n",
       "      <td>-0.523559</td>\n",
       "      <td>-1.934762</td>\n",
       "      <td>False</td>\n",
       "      <td>False</td>\n",
       "      <td>False</td>\n",
       "      <td>False</td>\n",
       "      <td>True</td>\n",
       "      <td>False</td>\n",
       "      <td>False</td>\n",
       "      <td>False</td>\n",
       "      <td>False</td>\n",
       "      <td>False</td>\n",
       "      <td>False</td>\n",
       "      <td>False</td>\n",
       "      <td>False</td>\n",
       "      <td>False</td>\n",
       "      <td>False</td>\n",
       "      <td>False</td>\n",
       "      <td>False</td>\n",
       "      <td>True</td>\n",
       "      <td>False</td>\n",
       "      <td>False</td>\n",
       "    </tr>\n",
       "    <tr>\n",
       "      <th>15262</th>\n",
       "      <td>-0.258428</td>\n",
       "      <td>0.943903</td>\n",
       "      <td>0.029121</td>\n",
       "      <td>1.358646</td>\n",
       "      <td>3.477055</td>\n",
       "      <td>-0.852851</td>\n",
       "      <td>0.736256</td>\n",
       "      <td>1.818203</td>\n",
       "      <td>-0.673822</td>\n",
       "      <td>0.206661</td>\n",
       "      <td>0.0</td>\n",
       "      <td>-1.487282</td>\n",
       "      <td>-1.713723</td>\n",
       "      <td>-0.367296</td>\n",
       "      <td>-1.144611</td>\n",
       "      <td>2.941834</td>\n",
       "      <td>False</td>\n",
       "      <td>False</td>\n",
       "      <td>False</td>\n",
       "      <td>True</td>\n",
       "      <td>False</td>\n",
       "      <td>False</td>\n",
       "      <td>False</td>\n",
       "      <td>False</td>\n",
       "      <td>False</td>\n",
       "      <td>False</td>\n",
       "      <td>False</td>\n",
       "      <td>False</td>\n",
       "      <td>False</td>\n",
       "      <td>False</td>\n",
       "      <td>False</td>\n",
       "      <td>False</td>\n",
       "      <td>True</td>\n",
       "      <td>False</td>\n",
       "      <td>False</td>\n",
       "      <td>False</td>\n",
       "    </tr>\n",
       "    <tr>\n",
       "      <th>9134</th>\n",
       "      <td>-0.185088</td>\n",
       "      <td>-0.345117</td>\n",
       "      <td>-0.742434</td>\n",
       "      <td>-0.393633</td>\n",
       "      <td>0.363037</td>\n",
       "      <td>-0.852851</td>\n",
       "      <td>-0.495745</td>\n",
       "      <td>-0.831590</td>\n",
       "      <td>0.696195</td>\n",
       "      <td>0.070090</td>\n",
       "      <td>0.0</td>\n",
       "      <td>-1.450334</td>\n",
       "      <td>-1.496390</td>\n",
       "      <td>-0.568973</td>\n",
       "      <td>0.252755</td>\n",
       "      <td>0.310242</td>\n",
       "      <td>True</td>\n",
       "      <td>False</td>\n",
       "      <td>False</td>\n",
       "      <td>False</td>\n",
       "      <td>False</td>\n",
       "      <td>False</td>\n",
       "      <td>False</td>\n",
       "      <td>False</td>\n",
       "      <td>False</td>\n",
       "      <td>False</td>\n",
       "      <td>False</td>\n",
       "      <td>False</td>\n",
       "      <td>False</td>\n",
       "      <td>True</td>\n",
       "      <td>False</td>\n",
       "      <td>False</td>\n",
       "      <td>False</td>\n",
       "      <td>True</td>\n",
       "      <td>False</td>\n",
       "      <td>False</td>\n",
       "    </tr>\n",
       "    <tr>\n",
       "      <th>11983</th>\n",
       "      <td>-0.797330</td>\n",
       "      <td>0.943903</td>\n",
       "      <td>-0.356656</td>\n",
       "      <td>0.763836</td>\n",
       "      <td>0.300532</td>\n",
       "      <td>-0.852851</td>\n",
       "      <td>-0.495745</td>\n",
       "      <td>0.101671</td>\n",
       "      <td>1.134601</td>\n",
       "      <td>-0.168911</td>\n",
       "      <td>0.0</td>\n",
       "      <td>-0.434250</td>\n",
       "      <td>-0.728620</td>\n",
       "      <td>0.552353</td>\n",
       "      <td>-0.057771</td>\n",
       "      <td>0.392084</td>\n",
       "      <td>False</td>\n",
       "      <td>False</td>\n",
       "      <td>False</td>\n",
       "      <td>True</td>\n",
       "      <td>False</td>\n",
       "      <td>False</td>\n",
       "      <td>False</td>\n",
       "      <td>False</td>\n",
       "      <td>False</td>\n",
       "      <td>False</td>\n",
       "      <td>False</td>\n",
       "      <td>False</td>\n",
       "      <td>False</td>\n",
       "      <td>False</td>\n",
       "      <td>False</td>\n",
       "      <td>False</td>\n",
       "      <td>False</td>\n",
       "      <td>False</td>\n",
       "      <td>True</td>\n",
       "      <td>False</td>\n",
       "    </tr>\n",
       "  </tbody>\n",
       "</table>\n",
       "</div>"
      ],
      "text/plain": [
       "             ID  No of Bedrooms  No of Bathrooms  Flat Area (in Sqft)  Lot Area (in Sqft)  No of Floors  Overall Grade  Area of the House from Basement (in Sqft)  Basement Area (in Sqft)  Age of House (in Years)  Renovated Year   Zipcode  Latitude  Longitude  Living Area after Renovation (in Sqft)  Lot Area after Renovation (in Sqft)  Date House was Sold_14 December 2017  Date House was Sold_14 July 2017  Date House was Sold_14 June 2017  Date House was Sold_14 May 2017  Date House was Sold_14 November 2017  Date House was Sold_14 October 2017  Date House was Sold_14 September 2017  Date House was Sold_15 April 2016  Date House was Sold_15 February 2016  Date House was Sold_15 January 2016  Date House was Sold_15 March 2016  Date House was Sold_15 May 2016  Waterfront View_Yes  No of Times Visited_Once  No of Times Visited_Thrice  No of Times Visited_Twice  Condition of the House_Excellent  Condition of the House_Fair  Condition of the House_Good  Condition of the House_Okay\n",
       "17316 -0.296193       -0.345117         0.800675             0.458393           -0.126935      0.977030       0.736256                                   0.884942                -0.673822                -0.612769             0.0 -0.970003  0.052644   1.786619                                0.990254                             0.295271                                 False                             False                             False                            False                                 False                                False                                  False                              False                                 False                                False                               True                            False                False                     False                       False                      False                             False                        False                         True                        False\n",
       "2017  -0.478586       -0.345117         1.958007            -0.554393           -1.828802      2.806911       0.736256                                  -0.614940                 0.065987                -1.022484             0.0  0.378618  0.541289  -0.730315                               -0.523559                            -1.934762                                 False                             False                             False                            False                                  True                                False                                  False                              False                                 False                                False                              False                            False                False                     False                       False                      False                             False                         True                        False                        False\n",
       "15262 -0.258428        0.943903         0.029121             1.358646            3.477055     -0.852851       0.736256                                   1.818203                -0.673822                 0.206661             0.0 -1.487282 -1.713723  -0.367296                               -1.144611                             2.941834                                 False                             False                             False                             True                                 False                                False                                  False                              False                                 False                                False                              False                            False                False                     False                       False                      False                              True                        False                        False                        False\n",
       "9134  -0.185088       -0.345117        -0.742434            -0.393633            0.363037     -0.852851      -0.495745                                  -0.831590                 0.696195                 0.070090             0.0 -1.450334 -1.496390  -0.568973                                0.252755                             0.310242                                  True                             False                             False                            False                                 False                                False                                  False                              False                                 False                                False                              False                            False                False                      True                       False                      False                             False                         True                        False                        False\n",
       "11983 -0.797330        0.943903        -0.356656             0.763836            0.300532     -0.852851      -0.495745                                   0.101671                 1.134601                -0.168911             0.0 -0.434250 -0.728620   0.552353                               -0.057771                             0.392084                                 False                             False                             False                             True                                 False                                False                                  False                              False                                 False                                False                              False                            False                False                     False                       False                      False                             False                        False                         True                        False"
      ]
     },
     "execution_count": 32,
     "metadata": {},
     "output_type": "execute_result"
    }
   ],
   "source": [
    "X_train.head()"
   ]
  },
  {
   "cell_type": "code",
   "execution_count": null,
   "id": "bab4c2fa",
   "metadata": {},
   "outputs": [
    {
     "data": {
      "text/html": [
       "<div>\n",
       "<style scoped>\n",
       "    .dataframe tbody tr th:only-of-type {\n",
       "        vertical-align: middle;\n",
       "    }\n",
       "\n",
       "    .dataframe tbody tr th {\n",
       "        vertical-align: top;\n",
       "    }\n",
       "\n",
       "    .dataframe thead th {\n",
       "        text-align: right;\n",
       "    }\n",
       "</style>\n",
       "<table border=\"1\" class=\"dataframe\">\n",
       "  <thead>\n",
       "    <tr style=\"text-align: right;\">\n",
       "      <th></th>\n",
       "      <th>ID</th>\n",
       "      <th>No of Bedrooms</th>\n",
       "      <th>No of Bathrooms</th>\n",
       "      <th>Flat Area (in Sqft)</th>\n",
       "      <th>Lot Area (in Sqft)</th>\n",
       "      <th>No of Floors</th>\n",
       "      <th>Overall Grade</th>\n",
       "      <th>Area of the House from Basement (in Sqft)</th>\n",
       "      <th>Basement Area (in Sqft)</th>\n",
       "      <th>Age of House (in Years)</th>\n",
       "      <th>Renovated Year</th>\n",
       "      <th>Zipcode</th>\n",
       "      <th>Latitude</th>\n",
       "      <th>Longitude</th>\n",
       "      <th>Living Area after Renovation (in Sqft)</th>\n",
       "      <th>Lot Area after Renovation (in Sqft)</th>\n",
       "      <th>Date House was Sold_14 December 2017</th>\n",
       "      <th>Date House was Sold_14 July 2017</th>\n",
       "      <th>Date House was Sold_14 June 2017</th>\n",
       "      <th>Date House was Sold_14 May 2017</th>\n",
       "      <th>Date House was Sold_14 November 2017</th>\n",
       "      <th>Date House was Sold_14 October 2017</th>\n",
       "      <th>Date House was Sold_14 September 2017</th>\n",
       "      <th>Date House was Sold_15 April 2016</th>\n",
       "      <th>Date House was Sold_15 February 2016</th>\n",
       "      <th>Date House was Sold_15 January 2016</th>\n",
       "      <th>Date House was Sold_15 March 2016</th>\n",
       "      <th>Date House was Sold_15 May 2016</th>\n",
       "      <th>Waterfront View_Yes</th>\n",
       "      <th>No of Times Visited_Once</th>\n",
       "      <th>No of Times Visited_Thrice</th>\n",
       "      <th>No of Times Visited_Twice</th>\n",
       "      <th>Condition of the House_Excellent</th>\n",
       "      <th>Condition of the House_Fair</th>\n",
       "      <th>Condition of the House_Good</th>\n",
       "      <th>Condition of the House_Okay</th>\n",
       "    </tr>\n",
       "  </thead>\n",
       "  <tbody>\n",
       "    <tr>\n",
       "      <th>572</th>\n",
       "      <td>-1.062850</td>\n",
       "      <td>2.232923</td>\n",
       "      <td>1.572230</td>\n",
       "      <td>1.165735</td>\n",
       "      <td>-0.469678</td>\n",
       "      <td>0.062089</td>\n",
       "      <td>-0.495745</td>\n",
       "      <td>0.284990</td>\n",
       "      <td>1.518206</td>\n",
       "      <td>1.504093</td>\n",
       "      <td>0.0</td>\n",
       "      <td>0.489463</td>\n",
       "      <td>-0.065966</td>\n",
       "      <td>-0.625443</td>\n",
       "      <td>-1.435728</td>\n",
       "      <td>-0.486554</td>\n",
       "      <td>False</td>\n",
       "      <td>False</td>\n",
       "      <td>False</td>\n",
       "      <td>False</td>\n",
       "      <td>False</td>\n",
       "      <td>False</td>\n",
       "      <td>False</td>\n",
       "      <td>True</td>\n",
       "      <td>False</td>\n",
       "      <td>False</td>\n",
       "      <td>False</td>\n",
       "      <td>False</td>\n",
       "      <td>False</td>\n",
       "      <td>False</td>\n",
       "      <td>False</td>\n",
       "      <td>False</td>\n",
       "      <td>False</td>\n",
       "      <td>False</td>\n",
       "      <td>True</td>\n",
       "      <td>False</td>\n",
       "    </tr>\n",
       "    <tr>\n",
       "      <th>17179</th>\n",
       "      <td>0.232561</td>\n",
       "      <td>0.943903</td>\n",
       "      <td>0.800675</td>\n",
       "      <td>1.776621</td>\n",
       "      <td>0.992832</td>\n",
       "      <td>0.977030</td>\n",
       "      <td>1.968257</td>\n",
       "      <td>2.251502</td>\n",
       "      <td>-0.673822</td>\n",
       "      <td>-0.681055</td>\n",
       "      <td>0.0</td>\n",
       "      <td>-0.415775</td>\n",
       "      <td>-0.185997</td>\n",
       "      <td>0.665293</td>\n",
       "      <td>2.251764</td>\n",
       "      <td>1.210839</td>\n",
       "      <td>False</td>\n",
       "      <td>False</td>\n",
       "      <td>True</td>\n",
       "      <td>False</td>\n",
       "      <td>False</td>\n",
       "      <td>False</td>\n",
       "      <td>False</td>\n",
       "      <td>False</td>\n",
       "      <td>False</td>\n",
       "      <td>False</td>\n",
       "      <td>False</td>\n",
       "      <td>False</td>\n",
       "      <td>False</td>\n",
       "      <td>False</td>\n",
       "      <td>False</td>\n",
       "      <td>False</td>\n",
       "      <td>False</td>\n",
       "      <td>False</td>\n",
       "      <td>True</td>\n",
       "      <td>False</td>\n",
       "    </tr>\n",
       "    <tr>\n",
       "      <th>14216</th>\n",
       "      <td>-0.249361</td>\n",
       "      <td>2.232923</td>\n",
       "      <td>0.414898</td>\n",
       "      <td>0.185101</td>\n",
       "      <td>0.294607</td>\n",
       "      <td>-0.852851</td>\n",
       "      <td>-0.495745</td>\n",
       "      <td>-0.731597</td>\n",
       "      <td>1.518206</td>\n",
       "      <td>0.377376</td>\n",
       "      <td>0.0</td>\n",
       "      <td>-1.357963</td>\n",
       "      <td>0.400662</td>\n",
       "      <td>0.963775</td>\n",
       "      <td>-0.077178</td>\n",
       "      <td>0.549780</td>\n",
       "      <td>False</td>\n",
       "      <td>False</td>\n",
       "      <td>False</td>\n",
       "      <td>False</td>\n",
       "      <td>False</td>\n",
       "      <td>False</td>\n",
       "      <td>True</td>\n",
       "      <td>False</td>\n",
       "      <td>False</td>\n",
       "      <td>False</td>\n",
       "      <td>False</td>\n",
       "      <td>False</td>\n",
       "      <td>False</td>\n",
       "      <td>False</td>\n",
       "      <td>False</td>\n",
       "      <td>True</td>\n",
       "      <td>False</td>\n",
       "      <td>True</td>\n",
       "      <td>False</td>\n",
       "      <td>False</td>\n",
       "    </tr>\n",
       "    <tr>\n",
       "      <th>21468</th>\n",
       "      <td>-0.534541</td>\n",
       "      <td>0.943903</td>\n",
       "      <td>1.572230</td>\n",
       "      <td>2.114216</td>\n",
       "      <td>-0.127823</td>\n",
       "      <td>0.977030</td>\n",
       "      <td>1.968257</td>\n",
       "      <td>2.601475</td>\n",
       "      <td>-0.673822</td>\n",
       "      <td>-1.261485</td>\n",
       "      <td>0.0</td>\n",
       "      <td>-0.471198</td>\n",
       "      <td>-0.224350</td>\n",
       "      <td>0.278072</td>\n",
       "      <td>1.669529</td>\n",
       "      <td>0.839222</td>\n",
       "      <td>False</td>\n",
       "      <td>False</td>\n",
       "      <td>False</td>\n",
       "      <td>False</td>\n",
       "      <td>False</td>\n",
       "      <td>False</td>\n",
       "      <td>False</td>\n",
       "      <td>False</td>\n",
       "      <td>False</td>\n",
       "      <td>False</td>\n",
       "      <td>False</td>\n",
       "      <td>True</td>\n",
       "      <td>False</td>\n",
       "      <td>False</td>\n",
       "      <td>False</td>\n",
       "      <td>False</td>\n",
       "      <td>False</td>\n",
       "      <td>True</td>\n",
       "      <td>False</td>\n",
       "      <td>False</td>\n",
       "    </tr>\n",
       "    <tr>\n",
       "      <th>4620</th>\n",
       "      <td>-0.146896</td>\n",
       "      <td>-0.345117</td>\n",
       "      <td>-0.742434</td>\n",
       "      <td>-0.650849</td>\n",
       "      <td>0.571586</td>\n",
       "      <td>-0.852851</td>\n",
       "      <td>-1.727746</td>\n",
       "      <td>-0.264967</td>\n",
       "      <td>-0.673822</td>\n",
       "      <td>0.616377</td>\n",
       "      <td>0.0</td>\n",
       "      <td>1.560970</td>\n",
       "      <td>-0.593675</td>\n",
       "      <td>-0.931992</td>\n",
       "      <td>-0.504151</td>\n",
       "      <td>1.070443</td>\n",
       "      <td>False</td>\n",
       "      <td>False</td>\n",
       "      <td>False</td>\n",
       "      <td>True</td>\n",
       "      <td>False</td>\n",
       "      <td>False</td>\n",
       "      <td>False</td>\n",
       "      <td>False</td>\n",
       "      <td>False</td>\n",
       "      <td>False</td>\n",
       "      <td>False</td>\n",
       "      <td>False</td>\n",
       "      <td>False</td>\n",
       "      <td>False</td>\n",
       "      <td>False</td>\n",
       "      <td>False</td>\n",
       "      <td>False</td>\n",
       "      <td>False</td>\n",
       "      <td>True</td>\n",
       "      <td>False</td>\n",
       "    </tr>\n",
       "  </tbody>\n",
       "</table>\n",
       "</div>"
      ],
      "text/plain": [
       "             ID  No of Bedrooms  No of Bathrooms  Flat Area (in Sqft)  Lot Area (in Sqft)  No of Floors  Overall Grade  Area of the House from Basement (in Sqft)  Basement Area (in Sqft)  Age of House (in Years)  Renovated Year   Zipcode  Latitude  Longitude  Living Area after Renovation (in Sqft)  Lot Area after Renovation (in Sqft)  Date House was Sold_14 December 2017  Date House was Sold_14 July 2017  Date House was Sold_14 June 2017  Date House was Sold_14 May 2017  Date House was Sold_14 November 2017  Date House was Sold_14 October 2017  Date House was Sold_14 September 2017  Date House was Sold_15 April 2016  Date House was Sold_15 February 2016  Date House was Sold_15 January 2016  Date House was Sold_15 March 2016  Date House was Sold_15 May 2016  Waterfront View_Yes  No of Times Visited_Once  No of Times Visited_Thrice  No of Times Visited_Twice  Condition of the House_Excellent  Condition of the House_Fair  Condition of the House_Good  Condition of the House_Okay\n",
       "572   -1.062850        2.232923         1.572230             1.165735           -0.469678      0.062089      -0.495745                                   0.284990                 1.518206                 1.504093             0.0  0.489463 -0.065966  -0.625443                               -1.435728                            -0.486554                                 False                             False                             False                            False                                 False                                False                                  False                               True                                 False                                False                              False                            False                False                     False                       False                      False                             False                        False                         True                        False\n",
       "17179  0.232561        0.943903         0.800675             1.776621            0.992832      0.977030       1.968257                                   2.251502                -0.673822                -0.681055             0.0 -0.415775 -0.185997   0.665293                                2.251764                             1.210839                                 False                             False                              True                            False                                 False                                False                                  False                              False                                 False                                False                              False                            False                False                     False                       False                      False                             False                        False                         True                        False\n",
       "14216 -0.249361        2.232923         0.414898             0.185101            0.294607     -0.852851      -0.495745                                  -0.731597                 1.518206                 0.377376             0.0 -1.357963  0.400662   0.963775                               -0.077178                             0.549780                                 False                             False                             False                            False                                 False                                False                                   True                              False                                 False                                False                              False                            False                False                     False                       False                       True                             False                         True                        False                        False\n",
       "21468 -0.534541        0.943903         1.572230             2.114216           -0.127823      0.977030       1.968257                                   2.601475                -0.673822                -1.261485             0.0 -0.471198 -0.224350   0.278072                                1.669529                             0.839222                                 False                             False                             False                            False                                 False                                False                                  False                              False                                 False                                False                              False                             True                False                     False                       False                      False                             False                         True                        False                        False\n",
       "4620  -0.146896       -0.345117        -0.742434            -0.650849            0.571586     -0.852851      -1.727746                                  -0.264967                -0.673822                 0.616377             0.0  1.560970 -0.593675  -0.931992                               -0.504151                             1.070443                                 False                             False                             False                             True                                 False                                False                                  False                              False                                 False                                False                              False                            False                False                     False                       False                      False                             False                        False                         True                        False"
      ]
     },
     "execution_count": 33,
     "metadata": {},
     "output_type": "execute_result"
    }
   ],
   "source": [
    "X_test.head()"
   ]
  },
  {
   "cell_type": "code",
   "execution_count": null,
   "id": "69bc98af",
   "metadata": {},
   "outputs": [
    {
     "data": {
      "text/plain": [
       "572      442000.0\n",
       "17179    752000.0\n",
       "14216    525126.0\n",
       "21468    649500.0\n",
       "4620     270000.0\n",
       "           ...   \n",
       "11043    751000.0\n",
       "8759     411500.0\n",
       "12448    320000.0\n",
       "16676    590000.0\n",
       "19371    224000.0\n",
       "Name: Sale Price, Length: 3180, dtype: float64"
      ]
     },
     "execution_count": 37,
     "metadata": {},
     "output_type": "execute_result"
    }
   ],
   "source": [
    "y_test"
   ]
  },
  {
   "cell_type": "code",
   "execution_count": null,
   "id": "7d9350f1",
   "metadata": {},
   "outputs": [
    {
     "data": {
      "text/plain": [
       "17316    578550.0\n",
       "2017     580000.0\n",
       "15262    360000.0\n",
       "9134     284850.0\n",
       "11983    319950.0\n",
       "           ...   \n",
       "6577     908800.0\n",
       "16920    420000.0\n",
       "6917     546000.0\n",
       "6888     424950.0\n",
       "12717    313100.0\n",
       "Name: Sale Price, Length: 12720, dtype: float64"
      ]
     },
     "execution_count": 38,
     "metadata": {},
     "output_type": "execute_result"
    }
   ],
   "source": [
    "y_train"
   ]
  },
  {
   "cell_type": "code",
   "execution_count": null,
   "id": "6bbe81cf",
   "metadata": {},
   "outputs": [
    {
     "name": "stdout",
     "output_type": "stream",
     "text": [
      "Training Features Shape: (12720, 36)\n",
      "Testing Features Shape: (3180, 36)\n",
      "Training Target Shape: (12720,)\n",
      "Testing Target Shape: (3180,)\n"
     ]
    }
   ],
   "source": [
    "print(\"Training Features Shape:\", X_train.shape)\n",
    "print(\"Testing Features Shape:\", X_test.shape)\n",
    "print(\"Training Target Shape:\", y_train.shape)\n",
    "print(\"Testing Target Shape:\", y_test.shape)"
   ]
  }
 ],
 "metadata": {
  "kernelspec": {
   "display_name": "Python 3",
   "language": "python",
   "name": "python3"
  },
  "language_info": {
   "codemirror_mode": {
    "name": "ipython",
    "version": 3
   },
   "file_extension": ".py",
   "mimetype": "text/x-python",
   "name": "python",
   "nbconvert_exporter": "python",
   "pygments_lexer": "ipython3",
   "version": "3.13.2"
  }
 },
 "nbformat": 4,
 "nbformat_minor": 5
}
